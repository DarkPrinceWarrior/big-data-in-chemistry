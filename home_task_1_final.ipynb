{
 "cells": [
  {
   "cell_type": "code",
   "execution_count": 1,
   "metadata": {},
   "outputs": [],
   "source": [
    "import pandas as pd\n",
    "import numpy as np\n",
    "import warnings\n",
    "warnings.filterwarnings(\"ignore\")"
   ]
  },
  {
   "cell_type": "code",
   "execution_count": 8,
   "metadata": {},
   "outputs": [],
   "source": [
    "# Transfer into xlsx format for convenience\n",
    "pd.read_csv(\"./data_original.csv\").to_excel(\"data_original.xlsx\",index=False)"
   ]
  },
  {
   "cell_type": "code",
   "execution_count": 9,
   "metadata": {},
   "outputs": [],
   "source": [
    "df = pd.read_excel(\"data_original.xlsx\")"
   ]
  },
  {
   "cell_type": "code",
   "execution_count": 10,
   "metadata": {},
   "outputs": [
    {
     "data": {
      "text/html": [
       "<div>\n",
       "<style scoped>\n",
       "    .dataframe tbody tr th:only-of-type {\n",
       "        vertical-align: middle;\n",
       "    }\n",
       "\n",
       "    .dataframe tbody tr th {\n",
       "        vertical-align: top;\n",
       "    }\n",
       "\n",
       "    .dataframe thead th {\n",
       "        text-align: right;\n",
       "    }\n",
       "</style>\n",
       "<table border=\"1\" class=\"dataframe\">\n",
       "  <thead>\n",
       "    <tr style=\"text-align: right;\">\n",
       "      <th></th>\n",
       "      <th>DOI</th>\n",
       "      <th>Date</th>\n",
       "      <th>Journal</th>\n",
       "      <th>Title</th>\n",
       "      <th>Name</th>\n",
       "      <th>measurement_error</th>\n",
       "      <th>measurement_wavelength</th>\n",
       "      <th>measurement_method</th>\n",
       "      <th>normalised_name</th>\n",
       "      <th>raw_value</th>\n",
       "      <th>specifier</th>\n",
       "    </tr>\n",
       "  </thead>\n",
       "  <tbody>\n",
       "    <tr>\n",
       "      <th>1287</th>\n",
       "      <td>10.1039/C4CP01679C</td>\n",
       "      <td>7/2/2014</td>\n",
       "      <td>Physical Chemistry Chemical Physics</td>\n",
       "      <td>The solvatochromic, spectral, and geometrical ...</td>\n",
       "      <td>DMF</td>\n",
       "      <td>0.0</td>\n",
       "      <td>NaN</td>\n",
       "      <td>rsc_cde_tables</td>\n",
       "      <td>CN(C)C=O</td>\n",
       "      <td>1.431</td>\n",
       "      <td>n</td>\n",
       "    </tr>\n",
       "    <tr>\n",
       "      <th>2902</th>\n",
       "      <td>10.1016/j.jlumin.2018.04.026</td>\n",
       "      <td>4/12/2018</td>\n",
       "      <td>Journal of Luminescence</td>\n",
       "      <td>EU2O3DOPEDBRIGHTORANGEREDLUMINESCENTLITHIUMALU...</td>\n",
       "      <td>Oxygen</td>\n",
       "      <td>0.0</td>\n",
       "      <td>NaN</td>\n",
       "      <td>el_cde_tables</td>\n",
       "      <td>O</td>\n",
       "      <td>1.3634</td>\n",
       "      <td>n</td>\n",
       "    </tr>\n",
       "    <tr>\n",
       "      <th>1992</th>\n",
       "      <td>10.1016/j.jct.2004.09.021</td>\n",
       "      <td>1/5/2005</td>\n",
       "      <td>The Journal of Chemical Thermodynamics</td>\n",
       "      <td>PHYSICALPROPERTIESANISOLENALKANESTEMPERATURESB...</td>\n",
       "      <td>Octane</td>\n",
       "      <td>0.0</td>\n",
       "      <td>NaN</td>\n",
       "      <td>el_cde_tables</td>\n",
       "      <td>NaN</td>\n",
       "      <td>1.3947</td>\n",
       "      <td>nD</td>\n",
       "    </tr>\n",
       "  </tbody>\n",
       "</table>\n",
       "</div>"
      ],
      "text/plain": [
       "                               DOI       Date  \\\n",
       "1287            10.1039/C4CP01679C   7/2/2014   \n",
       "2902  10.1016/j.jlumin.2018.04.026  4/12/2018   \n",
       "1992     10.1016/j.jct.2004.09.021   1/5/2005   \n",
       "\n",
       "                                     Journal  \\\n",
       "1287     Physical Chemistry Chemical Physics   \n",
       "2902                 Journal of Luminescence   \n",
       "1992  The Journal of Chemical Thermodynamics   \n",
       "\n",
       "                                                  Title    Name  \\\n",
       "1287  The solvatochromic, spectral, and geometrical ...     DMF   \n",
       "2902  EU2O3DOPEDBRIGHTORANGEREDLUMINESCENTLITHIUMALU...  Oxygen   \n",
       "1992  PHYSICALPROPERTIESANISOLENALKANESTEMPERATURESB...  Octane   \n",
       "\n",
       "      measurement_error measurement_wavelength measurement_method  \\\n",
       "1287                0.0                    NaN     rsc_cde_tables   \n",
       "2902                0.0                    NaN      el_cde_tables   \n",
       "1992                0.0                    NaN      el_cde_tables   \n",
       "\n",
       "     normalised_name raw_value specifier  \n",
       "1287        CN(C)C=O     1.431         n  \n",
       "2902               O    1.3634         n  \n",
       "1992             NaN    1.3947        nD  "
      ]
     },
     "execution_count": 10,
     "metadata": {},
     "output_type": "execute_result"
    }
   ],
   "source": [
    "df.sample(3)"
   ]
  },
  {
   "cell_type": "code",
   "execution_count": 11,
   "metadata": {},
   "outputs": [
    {
     "name": "stdout",
     "output_type": "stream",
     "text": [
      "<class 'pandas.core.frame.DataFrame'>\n",
      "RangeIndex: 5000 entries, 0 to 4999\n",
      "Data columns (total 11 columns):\n",
      " #   Column                  Non-Null Count  Dtype  \n",
      "---  ------                  --------------  -----  \n",
      " 0   DOI                     5000 non-null   object \n",
      " 1   Date                    4593 non-null   object \n",
      " 2   Journal                 4593 non-null   object \n",
      " 3   Title                   4593 non-null   object \n",
      " 4   Name                    4996 non-null   object \n",
      " 5   measurement_error       5000 non-null   float64\n",
      " 6   measurement_wavelength  588 non-null    object \n",
      " 7   measurement_method      5000 non-null   object \n",
      " 8   normalised_name         2946 non-null   object \n",
      " 9   raw_value               5000 non-null   object \n",
      " 10  specifier               5000 non-null   object \n",
      "dtypes: float64(1), object(10)\n",
      "memory usage: 429.8+ KB\n"
     ]
    }
   ],
   "source": [
    "df.info()"
   ]
  },
  {
   "cell_type": "code",
   "execution_count": 12,
   "metadata": {},
   "outputs": [],
   "source": [
    "# Для удобста ватаскивания значений через iloc\n",
    "column_index_dic = {col_name:index for index,col_name in enumerate(df.columns)}"
   ]
  },
  {
   "cell_type": "code",
   "execution_count": 13,
   "metadata": {},
   "outputs": [
    {
     "name": "stdout",
     "output_type": "stream",
     "text": [
      "Missed values ['Name']:  4\n"
     ]
    }
   ],
   "source": [
    "# В столбце \"Name\" есть пропущенные значения - 4 штуки \n",
    "print(\"Missed values ['Name']: \", df[\"Name\"].isna().sum())\n",
    "# В столбце \"Name\", заполним их исходя их столбца \"normalized name\"\n",
    "\n",
    "import requests \n",
    "\n",
    "def convert_smiles_to_name(smi):\n",
    "    try:\n",
    "        url =\"https://cactus.nci.nih.gov/chemical/structure/\" + smi+\"/iupac_name\" \n",
    "        res = requests.get(url)\n",
    "        return res.text.strip()\n",
    "    except:\n",
    "        return 'name not found'\n",
    "    \n",
    "for index in df[df[\"Name\"].isna()].index:\n",
    "    df.iloc[index,4] = convert_smiles_to_name(df.iloc[index,column_index_dic[\"normalised_name\"]])\n"
   ]
  },
  {
   "cell_type": "code",
   "execution_count": 14,
   "metadata": {},
   "outputs": [
    {
     "name": "stdout",
     "output_type": "stream",
     "text": [
      "Missed values ['normalised_name']:  2054\n"
     ]
    }
   ],
   "source": [
    "# Теперь заполним пропуски в \"normalised_name\" через \"name\"\n",
    "\n",
    "# В столбце \"Name\" есть пропущенные значения - 4 штуки \n",
    "print(\"Missed values ['normalised_name']: \", df[\"normalised_name\"].isna().sum())\n",
    "# В столбце \"Name\", заполним их исходя их столбца \"normalized name\"\n",
    "\n",
    "def convert_names_to_smiles(norm_name):\n",
    "    try:\n",
    "        url =\"https://cactus.nci.nih.gov/chemical/structure/\" + norm_name+\"/smiles\" \n",
    "        res = requests.get(url)\n",
    "        return res.text.strip()\n",
    "    except:\n",
    "        return 'name not found'\n",
    " \n",
    "for index in df[df[\"normalised_name\"].isna()].index:\n",
    "    df.iloc[index,column_index_dic[\"normalised_name\"]] = convert_names_to_smiles(df.iloc[index,column_index_dic[\"Name\"]])\n"
   ]
  },
  {
   "cell_type": "code",
   "execution_count": 15,
   "metadata": {},
   "outputs": [],
   "source": [
    "# на всякий случай, если есть, избавляемся от пробелов по краям строк\n",
    "df[\"DOI\"] = df[\"DOI\"].apply(lambda x: x.strip())"
   ]
  },
  {
   "attachments": {},
   "cell_type": "markdown",
   "metadata": {},
   "source": [
    "## Обработка DOIs - первая интераця "
   ]
  },
  {
   "cell_type": "code",
   "execution_count": 20,
   "metadata": {},
   "outputs": [],
   "source": [
    "# Обраюотка DOI\n",
    "# Если есть пробелы, то начинаем обработку \n",
    "from bs4 import BeautifulSoup\n",
    "# индексы строк с пробелами в DOI\n",
    "index_rows= df[df[\"DOI\"].apply(lambda x: \" \" in x)].index\n",
    "\n",
    "slice_wrong_DOIs = df.iloc[index_rows,column_index_dic[\"DOI\"]]\n",
    "correct_slice_DOIs = []\n",
    "for doi in slice_wrong_DOIs.values:\n",
    "    try:\n",
    "        correct_doi = []\n",
    "        for symbol in doi:\n",
    "            correct_doi.append(symbol)\n",
    "            # все DOI длинее 11 символов)\n",
    "            if len(correct_doi)>11:\n",
    "                response = requests.get(f\"https://sci-hub.ru/{''.join(correct_doi)}\")\n",
    "                tag_value = BeautifulSoup(response.content, 'html.parser').find('title').get_text()\n",
    "                if tag_value != \"Sci-Hub: статья не найдена\":\n",
    "                    correct_slice_DOIs.append(\"\".join(correct_doi))\n",
    "                    break\n",
    "    except:\n",
    "        print(\"nothing\")\n",
    "\n",
    "# Вставляем исправленные значения в DOI\n",
    "df.iloc[index_rows,column_index_dic[\"DOI\"]] = correct_slice_DOIs"
   ]
  },
  {
   "cell_type": "code",
   "execution_count": 21,
   "metadata": {},
   "outputs": [],
   "source": [
    "# Проверяем, какие статьи не ищутся и вытаскиваем индекс строк, таких статей\n",
    "responces = []\n",
    "doi_problems = []\n",
    "for doi in df[\"DOI\"]:\n",
    "    response = requests.get(f\"https://sci-hub.ru/{doi}\")\n",
    "    tag_value = BeautifulSoup(response.content, 'html.parser').find('title').get_text()\n",
    "    if tag_value == \"Sci-Hub: статья не найдена\":\n",
    "        doi_problems.append(doi)\n",
    "    responces.append(tag_value)"
   ]
  },
  {
   "cell_type": "code",
   "execution_count": 22,
   "metadata": {},
   "outputs": [],
   "source": [
    "# Проблемнеы DOIs, есть дубликаты - удаляем\n",
    "doi_problems = set(doi_problems)"
   ]
  },
  {
   "cell_type": "code",
   "execution_count": 24,
   "metadata": {},
   "outputs": [],
   "source": [
    "# Собственно проблемные DOIs\n",
    "\n",
    "# План такой: убрать слова после цифр, эти DOIs прогнать через sci-hub\n",
    "# обновлять journal, title и date через crossref\n",
    "\n",
    "processed_doi_problems = dict()\n",
    "for doi in doi_problems:\n",
    "    uppers = [l for l in doi[::-1] if l.isupper()]\n",
    "    if len(uppers)>0: \n",
    "        processed_doi_problems[doi] = doi[:doi.find(uppers[0])]\n",
    "    else:\n",
    "        processed_doi_problems[doi] = doi"
   ]
  },
  {
   "cell_type": "code",
   "execution_count": 26,
   "metadata": {},
   "outputs": [
    {
     "name": "stdout",
     "output_type": "stream",
     "text": [
      "Title: Heat treatment effect on the structural and optical properties of AgInSe2 thin films\n",
      "Publication Date: 2002\n",
      "Journal: Vacuum\n",
      "DOI: 10.1016/s0042-207x(01)00417-1\n",
      "Title: The light transmission and distribution in an optical fiber coated with TiO2 particles\n",
      "Publication Date: 2003\n",
      "Journal: Chemosphere\n",
      "DOI: 10.1016/s0045-6535(02)00641-0\n",
      "DOI not found.\n",
      "Title: Theoretical study of structural, electronic and optical properties of InxGa1-xN alloys\n",
      "Publication Date: 2018\n",
      "Journal: Optik\n",
      "DOI: 10.1016/j.ijleo.2018.08.083\n",
      "Title: The research on syntheses and properties of novel epoxy/polymercaptan curing optical resins with high refractive indices\n",
      "Publication Date: 2002\n",
      "Journal: Polymer\n",
      "DOI: 10.1016/s0032-3861(01)00573-0\n",
      "Title: Realization of tunable optical channel drop filter based on photonic crystal octagonal shaped structure\n",
      "Publication Date: 2018\n",
      "Journal: Optik\n",
      "DOI: 10.1016/j.ijleo.2018.06.146\n",
      "Title: High-performance bimetallic film surface plasmon resonance sensor based on film thickness optimization\n",
      "Publication Date: 2016\n",
      "Journal: Optik\n",
      "DOI: 10.1016/j.ijleo.2016.05.085\n",
      "Title: Design of a promising silicon slot waveguide-based ultra-short low loss efficient polarization rotator for the mid-IR\n",
      "Publication Date: 2018\n",
      "Journal: Optik\n",
      "DOI: 10.1016/j.ijleo.2018.11.064\n",
      "Title: Imaging the mammary gland and mammary tumours in 3D: optical tissue clearing and immunofluorescence methods\n",
      "Publication Date: 2016\n",
      "Journal: Breast Cancer Research\n",
      "DOI: 10.1186/s13058-016-0754-9\n",
      "Title: Optimization of electron bunch injection in dielectric laser acceleration\n",
      "Publication Date: 2018\n",
      "Journal: Optik\n",
      "DOI: 10.1016/j.ijleo.2018.05.043\n",
      "Title: Design and optimization of diamond-shaped biosensor using photonic crystal nano-ring resonator\n",
      "Publication Date: 2015\n",
      "Journal: Optik\n",
      "DOI: 10.1016/j.ijleo.2015.06.037\n",
      "Title: Light propagation and interaction observed with electrons\n",
      "Publication Date: 2015\n",
      "Journal: Ultramicroscopy\n",
      "DOI: 10.1016/j.ultramic.2015.10.005\n",
      "Title: Substrate temperature influence on the optical and electrical properties of spray deposited Sn2S3 thin films\n",
      "Publication Date: 2016\n",
      "Journal: Optik\n",
      "DOI: 10.1016/j.ijleo.2016.08.083\n",
      "Title: A fast method for preparing a large diameter, three-dimensional photonic crystal infrared stealth material\n",
      "Publication Date: 2018\n",
      "Journal: Optik\n",
      "DOI: 10.1016/j.ijleo.2018.11.135\n",
      "DOI not found.\n",
      "DOI not found.\n",
      "Title: Gas permeation in thin films of “high free-volume” glassy perfluoropolymers: Part II. CO2 plasticization and sorption\n",
      "Publication Date: 2014\n",
      "Journal: Polymer\n",
      "DOI: 10.1016/j.polymer.2014.12.008\n",
      "Title: Light enhancement of surface nano-textured GaN based light emitting diodes using self-assembled Ni nano-masks\n",
      "Publication Date: 2015\n",
      "Journal: Optik\n",
      "DOI: 10.1016/j.ijleo.2015.10.116\n",
      "Title: Net-shaped pyramidal carbon-based ceramic materials designed for terahertz absorbers\n",
      "Publication Date: 2017\n",
      "Journal: Materials &amp; Design\n",
      "DOI: 10.1016/j.matdes.2017.02.002\n",
      "Title: Surface-initiated RAFT polymerization from vapor-based polymer coatings\n",
      "Publication Date: 2018\n",
      "Journal: Polymer\n",
      "DOI: 10.1016/j.polymer.2018.06.073\n",
      "Title: Modified solvatochromic equations for better estimation of ground and excited state dipole moments of p-aminobenzoicacid (PABA): Accounting for real shape over hypothetical spherical solvent shell\n",
      "Publication Date: 2017\n",
      "Journal: Journal of Photochemistry and Photobiology A: Chemistry\n",
      "DOI: 10.1016/j.jphotochem.2016.12.034\n",
      "Title: Composition and structure of fresh ammonia clouds on Jupiter based on quantitative analysis of Galileo/NIMS and New Horizons/LEISA spectra\n",
      "Publication Date: 2017\n",
      "Journal: Icarus\n",
      "DOI: 10.1016/j.icarus.2017.10.037\n",
      "Title: Design of a circular photonic crystal fiber with square air-holes for orbital angular momentum modes transmission\n",
      "Publication Date: 2018\n",
      "Journal: Optik\n",
      "DOI: 10.1016/j.ijleo.2018.01.015\n",
      "Title: Design and analysis of single loop and double loop photonic crystal ring resonator based on hexagonal lattice structure\n",
      "Publication Date: 2018\n",
      "Journal: Optik\n",
      "DOI: 10.1016/j.ijleo.2018.10.157\n",
      "Title: Research of anti-ultraviolet nano-film structure based on the FDTD method\n",
      "Publication Date: 2015\n",
      "Journal: Optik\n",
      "DOI: 10.1016/j.ijleo.2015.10.042\n",
      "DOI not found.\n"
     ]
    }
   ],
   "source": [
    "# Проверяем обработанные статьи ячейкой выше processed_doi_problems\n",
    "\n",
    "problematic_doi = []\n",
    "for doi in list(processed_doi_problems.values()):\n",
    "    response = requests.get(f\"https://api.crossref.org/works/{doi}\")\n",
    "    if response.ok:\n",
    "        data = response.json()[\"message\"]\n",
    "        print(f\"Title: {data['title'][0]}\")\n",
    "        print(f\"Publication Date: {data['created']['date-parts'][0][0]}\")\n",
    "        print(f\"Journal: {data['container-title'][0]}\")\n",
    "        print(f\"DOI: {data['DOI']}\")\n",
    "    else:\n",
    "        problematic_doi.append(doi)\n",
    "        print(\"DOI not found.\")"
   ]
  },
  {
   "cell_type": "code",
   "execution_count": 27,
   "metadata": {},
   "outputs": [
    {
     "name": "stdout",
     "output_type": "stream",
     "text": [
      "['10.3389/fpls.2014.00', '10.1039/C6NR08470', '10.1039/C6TC05201', '10.1038/ncomms8']\n"
     ]
    }
   ],
   "source": [
    "# Проблемные статьи))\n",
    "print(problematic_doi)"
   ]
  },
  {
   "cell_type": "code",
   "execution_count": 28,
   "metadata": {},
   "outputs": [],
   "source": [
    "# Заменяем старые DOIs новыми, \n",
    "# но остается два неразрешенных DOIs - ['10.1038/srep28', '10.3389/fpls.2014.00']\n",
    "for key,value in processed_doi_problems.items():\n",
    "    df.loc[df[\"DOI\"]==key,\"DOI\"] = value"
   ]
  },
  {
   "cell_type": "code",
   "execution_count": 29,
   "metadata": {},
   "outputs": [],
   "source": [
    "# ['10.3389/fpls.2014.00', '10.1039/C6NR08470', '10.1039/C6TC05201', '10.1038/ncomms8'] удаляем эти DOIs (строки)\n",
    "for doi_prob in problematic_doi:\n",
    "    df = df.drop(df[df[\"DOI\"]==doi_prob].index)"
   ]
  },
  {
   "cell_type": "code",
   "execution_count": 45,
   "metadata": {},
   "outputs": [],
   "source": [
    "# Заполянем пропуски в (Date, Journal, Title)\n",
    "# Индексы пропусков у них одинаковые\n",
    "\n",
    "# Индексы пропусков у них одинаковые\n",
    "missed_index = df[df[\"Journal\"].isna()].index"
   ]
  },
  {
   "cell_type": "code",
   "execution_count": 47,
   "metadata": {},
   "outputs": [
    {
     "name": "stdout",
     "output_type": "stream",
     "text": [
      "DOI not found.\n",
      "DOI not found.\n",
      "DOI not found.\n",
      "DOI not found.\n",
      "DOI not found.\n",
      "DOI not found.\n",
      "DOI not found.\n",
      "DOI not found.\n",
      "DOI not found.\n",
      "DOI not found.\n",
      "DOI not found.\n"
     ]
    }
   ],
   "source": [
    "# Создаем список, который потом заполнить пропуски\n",
    "problematic_doi_2 = []\n",
    "values_fill = []\n",
    "for index in missed_index:\n",
    "    response = requests.get(f\"https://api.crossref.org/works/{df.loc[index,'DOI']}\")\n",
    "    if response.ok:\n",
    "        data = response.json()[\"message\"]\n",
    "        values_fill.append([data['created']['date-parts'][0][0],\n",
    "                            data['container-title'][0],data['title'][0]])\n",
    "    else:\n",
    "        problematic_doi_2.append(df.loc[index,'DOI'])\n",
    "        print(\"DOI not found.\")"
   ]
  },
  {
   "cell_type": "code",
   "execution_count": 49,
   "metadata": {},
   "outputs": [],
   "source": [
    "# Удаляем эти DOIs (строки)\n",
    "for doi_prob in problematic_doi_2:\n",
    "    df = df.drop(df[df[\"DOI\"]==doi_prob].index)"
   ]
  },
  {
   "cell_type": "code",
   "execution_count": 51,
   "metadata": {},
   "outputs": [],
   "source": [
    "df.to_excel(\"data_mod1.xlsx\")"
   ]
  },
  {
   "cell_type": "code",
   "execution_count": 3,
   "metadata": {},
   "outputs": [],
   "source": [
    "df = pd.read_excel(\"data_mod1.xlsx\")"
   ]
  },
  {
   "cell_type": "code",
   "execution_count": 4,
   "metadata": {},
   "outputs": [],
   "source": [
    "# Индексы пропусков у них одинаковые - но изменились после удаления, поэтому заново\n",
    "missed_index = df[df[\"Journal\"].isna()].index"
   ]
  },
  {
   "cell_type": "code",
   "execution_count": 10,
   "metadata": {},
   "outputs": [],
   "source": [
    "# Создаем список, который потом заполнить пропуски (повторно, так как удалили некоторые строки)\n",
    "import time\n",
    "import requests\n",
    "\n",
    "problematic_doi_2 = []\n",
    "values_fill = []\n",
    "for index in missed_index:\n",
    "    response = requests.get(f\"https://api.crossref.org/works/{df.loc[index,'DOI']}\")\n",
    "    if response.ok:\n",
    "        data = response.json()[\"message\"]\n",
    "        values_fill.append([data['created']['date-parts'][0][0],\n",
    "                            data['container-title'][0],data['title'][0]])\n",
    "    else:\n",
    "        problematic_doi_2.append(df.loc[index,'DOI'])\n",
    "        print(\"DOI not found.\")"
   ]
  },
  {
   "cell_type": "code",
   "execution_count": 12,
   "metadata": {},
   "outputs": [],
   "source": [
    "# Заполянем пропуски в (Date, Journal, Title)\n",
    "df.loc[missed_index,\"Date\"] = [x[0] for x in values_fill]\n",
    "df.loc[missed_index,\"Journal\"] = [x[1] for x in values_fill]\n",
    "df.loc[missed_index,\"Title\"] = [x[2] for x in values_fill]"
   ]
  },
  {
   "cell_type": "code",
   "execution_count": 15,
   "metadata": {},
   "outputs": [],
   "source": [
    "df.to_excel(\"data_mod1.xlsx\")"
   ]
  },
  {
   "attachments": {},
   "cell_type": "markdown",
   "metadata": {},
   "source": [
    "## Заполняем пропуски в SMILES (через pubchempy)"
   ]
  },
  {
   "cell_type": "code",
   "execution_count": 16,
   "metadata": {},
   "outputs": [],
   "source": [
    "import pubchempy as pcp\n",
    "\n",
    "def fill_smiles(mol_names):\n",
    "    smile_list = []\n",
    "    for mol_name in mol_names.values:\n",
    "        try:\n",
    "            smile = pcp.get_properties('CanonicalSMILES', mol_name, 'formula')[0]['CanonicalSMILES']\n",
    "            smile_list.append(smile)\n",
    "        except:\n",
    "            smile_list.append(None)\n",
    "    return smile_list\n",
    "\n",
    "mol_names = df.loc[df[\"normalised_name\"]==\"<h1>Page not found (404)</h1>\",\"Name\"]\n",
    "smiles = fill_smiles(mol_names)\n",
    "df.loc[df[\"normalised_name\"]==\"<h1>Page not found (404)</h1>\",\"normalised_name\"] = smiles"
   ]
  },
  {
   "cell_type": "code",
   "execution_count": 18,
   "metadata": {},
   "outputs": [],
   "source": [
    "df.to_excel(\"data_mod1.xlsx\")"
   ]
  },
  {
   "attachments": {},
   "cell_type": "markdown",
   "metadata": {},
   "source": [
    "## Заполянем пропуски в measurement_length"
   ]
  },
  {
   "cell_type": "code",
   "execution_count": 19,
   "metadata": {},
   "outputs": [
    {
     "name": "stdout",
     "output_type": "stream",
     "text": [
      "<class 'pandas.core.frame.DataFrame'>\n",
      "RangeIndex: 4985 entries, 0 to 4984\n",
      "Data columns (total 11 columns):\n",
      " #   Column                  Non-Null Count  Dtype  \n",
      "---  ------                  --------------  -----  \n",
      " 0   DOI                     4985 non-null   object \n",
      " 1   Date                    4985 non-null   object \n",
      " 2   Journal                 4985 non-null   object \n",
      " 3   Title                   4985 non-null   object \n",
      " 4   Name                    4985 non-null   object \n",
      " 5   measurement_error       4985 non-null   float64\n",
      " 6   measurement_wavelength  588 non-null    object \n",
      " 7   measurement_method      4985 non-null   object \n",
      " 8   normalised_name         4680 non-null   object \n",
      " 9   raw_value               4985 non-null   object \n",
      " 10  specifier               4985 non-null   object \n",
      "dtypes: float64(1), object(10)\n",
      "memory usage: 428.5+ KB\n"
     ]
    }
   ],
   "source": [
    "df.info()"
   ]
  },
  {
   "cell_type": "code",
   "execution_count": 20,
   "metadata": {},
   "outputs": [],
   "source": [
    "import re\n",
    "\n",
    "def get_wavelength(df_row):\n",
    "  \n",
    "  \"\"\"Заполняем пропуски в колонке measurement_wavelength\"\"\"\n",
    "    \n",
    "  if pd.notna(df_row['measurement_wavelength']):\n",
    "    num = re.findall(r'[+]?\\d*\\.?\\d+|\\d+', df_row['measurement_wavelength'])\n",
    "    if 'μm'in df_row['measurement_wavelength']:\n",
    "      return float(num[0])*1000\n",
    "    else: \n",
    "      return float(num[0])\n",
    "  else:\n",
    "    if re.search(r'\\s*n*[D]', df_row['specifier']):\n",
    "      return 589\n",
    "    elif re.search(r'[\\s(]n.*d', df_row['specifier']):\n",
    "      return 588\n",
    "    elif re.search(r'[\\s(]n.*[fF]', df_row['specifier']):\n",
    "      return 486\n",
    "    elif re.search(r'[\\s(]n.*g', df_row['specifier']):\n",
    "      return 436\n",
    "    elif re.search(r'[\\s(]n.*e', df_row['specifier']):\n",
    "      return 546\n",
    "    num = re.findall(r'[+]?\\d*\\.?\\d+|\\d+', df_row['specifier'])\n",
    "    if len(num)!=0:\n",
    "      if 'nm' in df_row['specifier']:\n",
    "        return float(num[0])\n",
    "      elif 'μm' in df_row['specifier'] or 'μ  m'in df_row['specifier']:\n",
    "        return float(num[0])*1000\n",
    "      elif ('Å' in df_row['specifier']) or ('Å' in df_row['specifier']):\n",
    "        return float(num[0])/10\n"
   ]
  },
  {
   "cell_type": "code",
   "execution_count": 21,
   "metadata": {},
   "outputs": [],
   "source": [
    "#создаем новую колонку, куда копируем имеющиеся значения 'measurement_wavelength' и дозаполняем пропуски\n",
    "df['measurement_wavelength'] = df.apply(lambda row: get_wavelength(row), axis=1)"
   ]
  },
  {
   "attachments": {},
   "cell_type": "markdown",
   "metadata": {},
   "source": [
    "## Заполняем пропуски в колонку 'measurement_error'"
   ]
  },
  {
   "cell_type": "code",
   "execution_count": 24,
   "metadata": {},
   "outputs": [],
   "source": [
    "df[\"measurement_error\"] = df[\"measurement_error\"].fillna(0)"
   ]
  },
  {
   "cell_type": "code",
   "execution_count": 25,
   "metadata": {},
   "outputs": [],
   "source": [
    "def get_measurement_error(row):\n",
    "    values = re.findall(r\"[+]?\\d*\\.?\\d+|\\d+\", row['raw_value'])\n",
    "    values = [float(x) for x in values]\n",
    "    if len(values) == 1:\n",
    "        return 0\n",
    "    # если погрешность\n",
    "    elif values[0] > values[1]:\n",
    "        if row['measurement_error']==0:\n",
    "            return values[1]\n",
    "        else:\n",
    "            return row['measurement_error']\n",
    "    # если интервал\n",
    "    elif values[0] < values[1]:\n",
    "        if row['measurement_error']==0:\n",
    "            return (values[1] - values[0])/2\n",
    "        else:\n",
    "            return row['measurement_error']\n",
    "    else:\n",
    "        if row['measurement_error']!=0:\n",
    "            return row['measurement_error']\n",
    "        else:\n",
    "            return 0"
   ]
  },
  {
   "cell_type": "code",
   "execution_count": 26,
   "metadata": {},
   "outputs": [],
   "source": [
    "# Новые заненяи у measurement_error\n",
    "df[\"measurement_error\"] = df.apply(lambda row: get_measurement_error(row), axis=1)"
   ]
  },
  {
   "cell_type": "code",
   "execution_count": 27,
   "metadata": {},
   "outputs": [
    {
     "name": "stdout",
     "output_type": "stream",
     "text": [
      "<class 'pandas.core.frame.DataFrame'>\n",
      "RangeIndex: 4985 entries, 0 to 4984\n",
      "Data columns (total 11 columns):\n",
      " #   Column                  Non-Null Count  Dtype  \n",
      "---  ------                  --------------  -----  \n",
      " 0   DOI                     4985 non-null   object \n",
      " 1   Date                    4985 non-null   object \n",
      " 2   Journal                 4985 non-null   object \n",
      " 3   Title                   4985 non-null   object \n",
      " 4   Name                    4985 non-null   object \n",
      " 5   measurement_error       4985 non-null   float64\n",
      " 6   measurement_wavelength  1273 non-null   float64\n",
      " 7   measurement_method      4985 non-null   object \n",
      " 8   normalised_name         4680 non-null   object \n",
      " 9   raw_value               4985 non-null   object \n",
      " 10  specifier               4985 non-null   object \n",
      "dtypes: float64(2), object(9)\n",
      "memory usage: 428.5+ KB\n"
     ]
    }
   ],
   "source": [
    "df.info()"
   ]
  },
  {
   "cell_type": "code",
   "execution_count": 28,
   "metadata": {},
   "outputs": [],
   "source": [
    "df.to_excel(\"data_mod1.xlsx\")"
   ]
  },
  {
   "cell_type": "code",
   "execution_count": null,
   "metadata": {},
   "outputs": [],
   "source": [
    "# Удаляем дубликаты строк по DOI и Name и measurement_method и normalised_name и specifier\n",
    "df = df.drop_duplicates(subset=[\"DOI\",\"Name\"])"
   ]
  },
  {
   "attachments": {},
   "cell_type": "markdown",
   "metadata": {},
   "source": [
    "**Getting descriptors from APIs**"
   ]
  },
  {
   "attachments": {},
   "cell_type": "markdown",
   "metadata": {},
   "source": [
    "Since one of the tasks was to collect 1000 descriptors, in addition to the usual APIs with a small number of parameters for each molecule (ChemSpider, PubChem, RDKit, Materials Project) it was necessary to choose at least one big API with calculated molecular descriptors. Examples of such APIs are PaDEL-descriptor [1] and molecular descriptor calculator Mordred [2]. PaDEL-descriptor is currently considered outdated and Mordred is regarded as a faster and more convenient tool, so it was decided to settle on it. Among classical APIs Materials Project was chosen due to the availability of parameters for a large number of inorganic molecules. RDKit was also chosen, as it is appealing because it has a large number of descriptors and is open-source, while ChemSpider contains few descriptors, and PubChem is also slow.\n",
    "\n",
    "[1] - https://onlinelibrary.wiley.com/doi/10.1002/jcc.21707\n",
    "\n",
    "[2] - https://jcheminf.biomedcentral.com/articles/10.1186/s13321-018-0258-y"
   ]
  },
  {
   "cell_type": "code",
   "execution_count": 1,
   "metadata": {},
   "outputs": [],
   "source": [
    "# Import APIs\n",
    "from mp_api.client import MPRester\n",
    "from rdkit.ML.Descriptors import MoleculeDescriptors\n",
    "from rdkit import Chem\n",
    "from mordred import Calculator, descriptors\n",
    "\n",
    "# Import other things \n",
    "import numpy as np\n",
    "import pandas as pd\n",
    "from tqdm import tqdm"
   ]
  },
  {
   "cell_type": "code",
   "execution_count": 2,
   "metadata": {},
   "outputs": [],
   "source": [
    "# Firstly we have to load cleansed data\n",
    "df = pd.read_excel('data_mod1.xlsx')"
   ]
  },
  {
   "cell_type": "code",
   "execution_count": 3,
   "metadata": {},
   "outputs": [
    {
     "data": {
      "text/html": [
       "<div>\n",
       "<style scoped>\n",
       "    .dataframe tbody tr th:only-of-type {\n",
       "        vertical-align: middle;\n",
       "    }\n",
       "\n",
       "    .dataframe tbody tr th {\n",
       "        vertical-align: top;\n",
       "    }\n",
       "\n",
       "    .dataframe thead th {\n",
       "        text-align: right;\n",
       "    }\n",
       "</style>\n",
       "<table border=\"1\" class=\"dataframe\">\n",
       "  <thead>\n",
       "    <tr style=\"text-align: right;\">\n",
       "      <th></th>\n",
       "      <th>DOI</th>\n",
       "      <th>Date</th>\n",
       "      <th>Journal</th>\n",
       "      <th>Title</th>\n",
       "      <th>Name</th>\n",
       "      <th>measurement_error</th>\n",
       "      <th>measurement_wavelength</th>\n",
       "      <th>measurement_method</th>\n",
       "      <th>normalised_name</th>\n",
       "      <th>raw_value</th>\n",
       "      <th>specifier</th>\n",
       "    </tr>\n",
       "  </thead>\n",
       "  <tbody>\n",
       "    <tr>\n",
       "      <th>0</th>\n",
       "      <td>10.1016/j.foodhyd.2014.07.012</td>\n",
       "      <td>7/24/2014</td>\n",
       "      <td>Food Hydrocolloids</td>\n",
       "      <td>PHYSICOCHEMICALCHARACTERIZATIONANTIMICROBIALAC...</td>\n",
       "      <td>p-cimene</td>\n",
       "      <td>0.0</td>\n",
       "      <td>633.0</td>\n",
       "      <td>el_mylogic</td>\n",
       "      <td>CC(C)c1ccc(C)cc1</td>\n",
       "      <td>1.471</td>\n",
       "      <td>Refractive index</td>\n",
       "    </tr>\n",
       "    <tr>\n",
       "      <th>1</th>\n",
       "      <td>10.1016/j.jct.2015.04.010</td>\n",
       "      <td>4/27/2015</td>\n",
       "      <td>The Journal of Chemical Thermodynamics</td>\n",
       "      <td>LIQUIDLIQUIDPHASEEQUILIBRIUMCRITICALBEHAVIORBI...</td>\n",
       "      <td>D2O</td>\n",
       "      <td>0.0</td>\n",
       "      <td>632.8</td>\n",
       "      <td>el_mylogic</td>\n",
       "      <td>O([2H])[2H]</td>\n",
       "      <td>1.4173</td>\n",
       "      <td>n</td>\n",
       "    </tr>\n",
       "    <tr>\n",
       "      <th>2</th>\n",
       "      <td>10.1016/j.apcatb.2014.06.020</td>\n",
       "      <td>6/20/2014</td>\n",
       "      <td>Applied Catalysis B: Environmental</td>\n",
       "      <td>ENHANCEDPHOTOCATALYTICPERFORMANCETIO2BASEDSYNE...</td>\n",
       "      <td>TiO2</td>\n",
       "      <td>0.0</td>\n",
       "      <td>396.0</td>\n",
       "      <td>el_mylogic</td>\n",
       "      <td>[['O', 2.0], ['Ti', 1.0]]</td>\n",
       "      <td>1.6</td>\n",
       "      <td>Refractive index</td>\n",
       "    </tr>\n",
       "    <tr>\n",
       "      <th>3</th>\n",
       "      <td>10.1016/S0022-2860(03)00155-8</td>\n",
       "      <td>4/2/2003</td>\n",
       "      <td>Journal of Molecular Structure</td>\n",
       "      <td>SOLVENTEFFECTSPHOTOCHEMICALFLUORESCENCEPROPERT...</td>\n",
       "      <td>Pyridine</td>\n",
       "      <td>0.0</td>\n",
       "      <td>14.0</td>\n",
       "      <td>el_mylogic</td>\n",
       "      <td>c1ccncc1</td>\n",
       "      <td>1.509</td>\n",
       "      <td>Refractive index,  n  D</td>\n",
       "    </tr>\n",
       "    <tr>\n",
       "      <th>4</th>\n",
       "      <td>10.1016/j.powtec.2006.10.021</td>\n",
       "      <td>10/24/2006</td>\n",
       "      <td>Powder Technology</td>\n",
       "      <td>PARTICLESIZEDISTRIBUTIONBYSPACETIMEDEPENDENTEX...</td>\n",
       "      <td>SiO2</td>\n",
       "      <td>0.0</td>\n",
       "      <td>NaN</td>\n",
       "      <td>el_cde_tables</td>\n",
       "      <td>[['O', 2.0], ['Si', 1.0]]</td>\n",
       "      <td>1.44</td>\n",
       "      <td>Refractive Index</td>\n",
       "    </tr>\n",
       "    <tr>\n",
       "      <th>...</th>\n",
       "      <td>...</td>\n",
       "      <td>...</td>\n",
       "      <td>...</td>\n",
       "      <td>...</td>\n",
       "      <td>...</td>\n",
       "      <td>...</td>\n",
       "      <td>...</td>\n",
       "      <td>...</td>\n",
       "      <td>...</td>\n",
       "      <td>...</td>\n",
       "      <td>...</td>\n",
       "    </tr>\n",
       "    <tr>\n",
       "      <th>4980</th>\n",
       "      <td>10.1016/j.mseb.2018.10.016</td>\n",
       "      <td>11/6/2018</td>\n",
       "      <td>Materials Science and Engineering: B</td>\n",
       "      <td>HIGHLYTRANSPARENTZINCNITRIDETHINFILMSBYRFMAGNE...</td>\n",
       "      <td>Zn3N2</td>\n",
       "      <td>0.0</td>\n",
       "      <td>500.0</td>\n",
       "      <td>el_mylogic</td>\n",
       "      <td>[N-]=[Zn].[N-]=[Zn].[Zn+2]</td>\n",
       "      <td>1.32</td>\n",
       "      <td>Refractive index (n) (500 nm)</td>\n",
       "    </tr>\n",
       "    <tr>\n",
       "      <th>4981</th>\n",
       "      <td>10.1016/j.opelre.2017.06.002</td>\n",
       "      <td>2017</td>\n",
       "      <td>Opto-Electronics Review</td>\n",
       "      <td>Performance study of a liquid-core Bragg fiber...</td>\n",
       "      <td>sucrose</td>\n",
       "      <td>0.0</td>\n",
       "      <td>NaN</td>\n",
       "      <td>snowball</td>\n",
       "      <td>OC[C@H]1O[C@H](O[C@]2(CO)O[C@H](CO)[C@@H](O)[C...</td>\n",
       "      <td>1.4418</td>\n",
       "      <td>refractive index</td>\n",
       "    </tr>\n",
       "    <tr>\n",
       "      <th>4982</th>\n",
       "      <td>10.1016/j.matchemphys.2017.03.036</td>\n",
       "      <td>3/26/2017</td>\n",
       "      <td>Materials Chemistry and Physics</td>\n",
       "      <td>MODIFICATIONSINOPTICALSTRUCTURALPROPERTIESPMMA...</td>\n",
       "      <td>PMMA</td>\n",
       "      <td>0.0</td>\n",
       "      <td>NaN</td>\n",
       "      <td>el_cde_tables</td>\n",
       "      <td>COC(=O)[C](C)C</td>\n",
       "      <td>1.43</td>\n",
       "      <td>Refractive index</td>\n",
       "    </tr>\n",
       "    <tr>\n",
       "      <th>4983</th>\n",
       "      <td>10.1016/j.enconman.2010.06.016</td>\n",
       "      <td>6/25/2010</td>\n",
       "      <td>Energy Conversion and Management</td>\n",
       "      <td>CATALYTICPYROLYSISLDPELEADSVALUABLERESOURCEREC...</td>\n",
       "      <td>ZnO</td>\n",
       "      <td>0.0</td>\n",
       "      <td>NaN</td>\n",
       "      <td>el_mylogic</td>\n",
       "      <td>O|[Zn++]|O</td>\n",
       "      <td>1.453</td>\n",
       "      <td>Refractive index (η)</td>\n",
       "    </tr>\n",
       "    <tr>\n",
       "      <th>4984</th>\n",
       "      <td>10.1016/j.ijleo.2017.01.003</td>\n",
       "      <td>1/6/2017</td>\n",
       "      <td>Optik</td>\n",
       "      <td>INVESTIGATIONOPTICALACOUSTICFIELDSSTIMULATEDBR...</td>\n",
       "      <td>CHCL3</td>\n",
       "      <td>0.0</td>\n",
       "      <td>NaN</td>\n",
       "      <td>el_cde_tables</td>\n",
       "      <td>ClC(Cl)Cl</td>\n",
       "      <td>1.446</td>\n",
       "      <td>Refractive index</td>\n",
       "    </tr>\n",
       "  </tbody>\n",
       "</table>\n",
       "<p>4985 rows × 11 columns</p>\n",
       "</div>"
      ],
      "text/plain": [
       "                                    DOI        Date  \\\n",
       "0         10.1016/j.foodhyd.2014.07.012   7/24/2014   \n",
       "1             10.1016/j.jct.2015.04.010   4/27/2015   \n",
       "2          10.1016/j.apcatb.2014.06.020   6/20/2014   \n",
       "3         10.1016/S0022-2860(03)00155-8    4/2/2003   \n",
       "4          10.1016/j.powtec.2006.10.021  10/24/2006   \n",
       "...                                 ...         ...   \n",
       "4980         10.1016/j.mseb.2018.10.016   11/6/2018   \n",
       "4981       10.1016/j.opelre.2017.06.002        2017   \n",
       "4982  10.1016/j.matchemphys.2017.03.036   3/26/2017   \n",
       "4983     10.1016/j.enconman.2010.06.016   6/25/2010   \n",
       "4984        10.1016/j.ijleo.2017.01.003    1/6/2017   \n",
       "\n",
       "                                     Journal  \\\n",
       "0                         Food Hydrocolloids   \n",
       "1     The Journal of Chemical Thermodynamics   \n",
       "2         Applied Catalysis B: Environmental   \n",
       "3             Journal of Molecular Structure   \n",
       "4                          Powder Technology   \n",
       "...                                      ...   \n",
       "4980    Materials Science and Engineering: B   \n",
       "4981                 Opto-Electronics Review   \n",
       "4982         Materials Chemistry and Physics   \n",
       "4983        Energy Conversion and Management   \n",
       "4984                                   Optik   \n",
       "\n",
       "                                                  Title      Name  \\\n",
       "0     PHYSICOCHEMICALCHARACTERIZATIONANTIMICROBIALAC...  p-cimene   \n",
       "1     LIQUIDLIQUIDPHASEEQUILIBRIUMCRITICALBEHAVIORBI...       D2O   \n",
       "2     ENHANCEDPHOTOCATALYTICPERFORMANCETIO2BASEDSYNE...      TiO2   \n",
       "3     SOLVENTEFFECTSPHOTOCHEMICALFLUORESCENCEPROPERT...  Pyridine   \n",
       "4     PARTICLESIZEDISTRIBUTIONBYSPACETIMEDEPENDENTEX...      SiO2   \n",
       "...                                                 ...       ...   \n",
       "4980  HIGHLYTRANSPARENTZINCNITRIDETHINFILMSBYRFMAGNE...     Zn3N2   \n",
       "4981  Performance study of a liquid-core Bragg fiber...   sucrose   \n",
       "4982  MODIFICATIONSINOPTICALSTRUCTURALPROPERTIESPMMA...      PMMA   \n",
       "4983  CATALYTICPYROLYSISLDPELEADSVALUABLERESOURCEREC...       ZnO   \n",
       "4984  INVESTIGATIONOPTICALACOUSTICFIELDSSTIMULATEDBR...     CHCL3   \n",
       "\n",
       "      measurement_error  measurement_wavelength measurement_method  \\\n",
       "0                   0.0                   633.0         el_mylogic   \n",
       "1                   0.0                   632.8         el_mylogic   \n",
       "2                   0.0                   396.0         el_mylogic   \n",
       "3                   0.0                    14.0         el_mylogic   \n",
       "4                   0.0                     NaN      el_cde_tables   \n",
       "...                 ...                     ...                ...   \n",
       "4980                0.0                   500.0         el_mylogic   \n",
       "4981                0.0                     NaN           snowball   \n",
       "4982                0.0                     NaN      el_cde_tables   \n",
       "4983                0.0                     NaN         el_mylogic   \n",
       "4984                0.0                     NaN      el_cde_tables   \n",
       "\n",
       "                                        normalised_name raw_value  \\\n",
       "0                                      CC(C)c1ccc(C)cc1     1.471   \n",
       "1                                           O([2H])[2H]    1.4173   \n",
       "2                             [['O', 2.0], ['Ti', 1.0]]       1.6   \n",
       "3                                              c1ccncc1     1.509   \n",
       "4                             [['O', 2.0], ['Si', 1.0]]      1.44   \n",
       "...                                                 ...       ...   \n",
       "4980                         [N-]=[Zn].[N-]=[Zn].[Zn+2]      1.32   \n",
       "4981  OC[C@H]1O[C@H](O[C@]2(CO)O[C@H](CO)[C@@H](O)[C...    1.4418   \n",
       "4982                                     COC(=O)[C](C)C      1.43   \n",
       "4983                                         O|[Zn++]|O     1.453   \n",
       "4984                                          ClC(Cl)Cl     1.446   \n",
       "\n",
       "                          specifier  \n",
       "0                  Refractive index  \n",
       "1                                 n  \n",
       "2                  Refractive index  \n",
       "3           Refractive index,  n  D  \n",
       "4                  Refractive Index  \n",
       "...                             ...  \n",
       "4980  Refractive index (n) (500 nm)  \n",
       "4981               refractive index  \n",
       "4982               Refractive index  \n",
       "4983           Refractive index (η)  \n",
       "4984               Refractive index  \n",
       "\n",
       "[4985 rows x 11 columns]"
      ]
     },
     "execution_count": 3,
     "metadata": {},
     "output_type": "execute_result"
    }
   ],
   "source": [
    "df"
   ]
  },
  {
   "attachments": {},
   "cell_type": "markdown",
   "metadata": {},
   "source": [
    "Descriptors from Materials Project"
   ]
  },
  {
   "cell_type": "code",
   "execution_count": 4,
   "metadata": {},
   "outputs": [],
   "source": [
    "MP_API_KEY = \"tOIX0eqKRxvebjdAnUPan5jZRJ6MwAAz\""
   ]
  },
  {
   "cell_type": "code",
   "execution_count": 6,
   "metadata": {},
   "outputs": [],
   "source": [
    "with MPRester(MP_API_KEY) as mpr:\n",
    "    all_fiels = mpr.summary.available_fields"
   ]
  },
  {
   "attachments": {},
   "cell_type": "markdown",
   "metadata": {},
   "source": [
    "Firstly, let's check what we can get"
   ]
  },
  {
   "cell_type": "code",
   "execution_count": 7,
   "metadata": {},
   "outputs": [
    {
     "name": "stdout",
     "output_type": "stream",
     "text": [
      "['builder_meta', 'nsites', 'elements', 'nelements', 'composition', 'composition_reduced', 'formula_pretty', 'formula_anonymous', 'chemsys', 'volume', 'density', 'density_atomic', 'symmetry', 'property_name', 'material_id', 'deprecated', 'deprecation_reasons', 'last_updated', 'origins', 'warnings', 'structure', 'task_ids', 'uncorrected_energy_per_atom', 'energy_per_atom', 'formation_energy_per_atom', 'energy_above_hull', 'is_stable', 'equilibrium_reaction_energy_per_atom', 'decomposes_to', 'xas', 'grain_boundaries', 'band_gap', 'cbm', 'vbm', 'efermi', 'is_gap_direct', 'is_metal', 'es_source_calc_id', 'bandstructure', 'dos', 'dos_energy_up', 'dos_energy_down', 'is_magnetic', 'ordering', 'total_magnetization', 'total_magnetization_normalized_vol', 'total_magnetization_normalized_formula_units', 'num_magnetic_sites', 'num_unique_magnetic_sites', 'types_of_magnetic_species', 'k_voigt', 'k_reuss', 'k_vrh', 'g_voigt', 'g_reuss', 'g_vrh', 'universal_anisotropy', 'homogeneous_poisson', 'e_total', 'e_ionic', 'e_electronic', 'n', 'e_ij_max', 'weighted_surface_energy_EV_PER_ANG2', 'weighted_surface_energy', 'weighted_work_function', 'surface_anisotropy', 'shape_factor', 'has_reconstructed', 'possible_species', 'has_props', 'theoretical', 'database_IDs']\n"
     ]
    }
   ],
   "source": [
    "print(all_fiels)"
   ]
  },
  {
   "attachments": {},
   "cell_type": "markdown",
   "metadata": {},
   "source": [
    "It is obvious that we don't need most of these field, such as several formulas, different kinds of metadata, elements and so on, so let's get rid of them"
   ]
  },
  {
   "cell_type": "code",
   "execution_count": 8,
   "metadata": {},
   "outputs": [],
   "source": [
    "useless_fiels = [\n",
    "    \"builder_meta\",\n",
    "    \"elements\",\n",
    "    \"nelements\",\n",
    "    \"composition\",\n",
    "    \"composition_reduced\",\n",
    "    \"formula_pretty\",\n",
    "    \"formula_anonymous\",\n",
    "    \"chemsys\",\n",
    "    \"symmetry\",\n",
    "    \"property_name\",\n",
    "    \"material_id\",\n",
    "    \"deprecated\",\n",
    "    \"deprecation_reasons\",\n",
    "    \"last_updated\",\n",
    "    \"origins\",\n",
    "    \"warnings\",\n",
    "    \"task_ids\",\n",
    "    \"database_IDs\",\n",
    "    \"decomposes_to\",\n",
    "    \"es_source_calc_id\",\n",
    "    \"has_reconstructed\",\n",
    "    \"possible_species\",\n",
    "    \"has_props\",\n",
    "]\n"
   ]
  },
  {
   "cell_type": "code",
   "execution_count": 9,
   "metadata": {},
   "outputs": [],
   "source": [
    "# These are remaining useful descriptors\n",
    "useful_fields = list(set(all_fiels) - set(useless_fiels))\n"
   ]
  },
  {
   "cell_type": "code",
   "execution_count": 10,
   "metadata": {},
   "outputs": [],
   "source": [
    "# We will store normalised names of the columns and MPData docs for future dataframe\n",
    "docs = []\n",
    "names = []\n"
   ]
  },
  {
   "attachments": {},
   "cell_type": "markdown",
   "metadata": {},
   "source": [
    "Now we can download all data from Materials Project, storing names and docs"
   ]
  },
  {
   "cell_type": "code",
   "execution_count": null,
   "metadata": {},
   "outputs": [],
   "source": [
    "for name in tqdm(df.normalised_name):\n",
    "    try:\n",
    "        doc = mpr.summary.search(formula=name, fields=useful_fields)\n",
    "        if doc != []:\n",
    "            names += [name]\n",
    "            docs += [doc]\n",
    "    except:\n",
    "        pass"
   ]
  },
  {
   "attachments": {},
   "cell_type": "markdown",
   "metadata": {},
   "source": [
    "Now we can store our data in a dataframe with names and all of the descriptors"
   ]
  },
  {
   "cell_type": "code",
   "execution_count": 12,
   "metadata": {},
   "outputs": [],
   "source": [
    "df_mat_proj = pd.DataFrame(columns=[\"normalised_name\"] + useful_fields)\n"
   ]
  },
  {
   "cell_type": "code",
   "execution_count": 13,
   "metadata": {},
   "outputs": [
    {
     "name": "stderr",
     "output_type": "stream",
     "text": [
      "482it [00:03, 130.09it/s]\n"
     ]
    }
   ],
   "source": [
    "for i, doc in tqdm(enumerate(docs)):\n",
    "    data = []\n",
    "    for field in useful_fields:\n",
    "        data.append(getattr(doc[0], field))\n",
    "    df_mat_proj.loc[len(df_mat_proj.index)] = [names[i]] + data\n"
   ]
  },
  {
   "cell_type": "code",
   "execution_count": 14,
   "metadata": {},
   "outputs": [
    {
     "data": {
      "text/html": [
       "<div>\n",
       "<style scoped>\n",
       "    .dataframe tbody tr th:only-of-type {\n",
       "        vertical-align: middle;\n",
       "    }\n",
       "\n",
       "    .dataframe tbody tr th {\n",
       "        vertical-align: top;\n",
       "    }\n",
       "\n",
       "    .dataframe thead th {\n",
       "        text-align: right;\n",
       "    }\n",
       "</style>\n",
       "<table border=\"1\" class=\"dataframe\">\n",
       "  <thead>\n",
       "    <tr style=\"text-align: right;\">\n",
       "      <th></th>\n",
       "      <th>normalised_name</th>\n",
       "      <th>xas</th>\n",
       "      <th>structure</th>\n",
       "      <th>grain_boundaries</th>\n",
       "      <th>theoretical</th>\n",
       "      <th>is_magnetic</th>\n",
       "      <th>weighted_surface_energy</th>\n",
       "      <th>vbm</th>\n",
       "      <th>num_magnetic_sites</th>\n",
       "      <th>weighted_work_function</th>\n",
       "      <th>...</th>\n",
       "      <th>energy_per_atom</th>\n",
       "      <th>energy_above_hull</th>\n",
       "      <th>dos_energy_up</th>\n",
       "      <th>total_magnetization_normalized_formula_units</th>\n",
       "      <th>weighted_surface_energy_EV_PER_ANG2</th>\n",
       "      <th>types_of_magnetic_species</th>\n",
       "      <th>shape_factor</th>\n",
       "      <th>e_total</th>\n",
       "      <th>bandstructure</th>\n",
       "      <th>g_vrh</th>\n",
       "    </tr>\n",
       "  </thead>\n",
       "  <tbody>\n",
       "    <tr>\n",
       "      <th>0</th>\n",
       "      <td>ClC(Cl)(Cl)Cl</td>\n",
       "      <td>[edge=&lt;Edge.K: 'K'&gt; absorbing_element=Element ...</td>\n",
       "      <td>[[23.92950295 -9.16403282 11.10570111] C, [18....</td>\n",
       "      <td>None</td>\n",
       "      <td>False</td>\n",
       "      <td>False</td>\n",
       "      <td>NaN</td>\n",
       "      <td>-1.9445</td>\n",
       "      <td>0</td>\n",
       "      <td>NaN</td>\n",
       "      <td>...</td>\n",
       "      <td>-3.966848</td>\n",
       "      <td>0.000000</td>\n",
       "      <td>None</td>\n",
       "      <td>0.000000</td>\n",
       "      <td>NaN</td>\n",
       "      <td>[]</td>\n",
       "      <td>NaN</td>\n",
       "      <td>NaN</td>\n",
       "      <td>setyawan_curtarolo=BandStructureSummaryData(ta...</td>\n",
       "      <td>NaN</td>\n",
       "    </tr>\n",
       "    <tr>\n",
       "      <th>1</th>\n",
       "      <td>CCCCCCCCCCCC</td>\n",
       "      <td>[edge=&lt;Edge.K: 'K'&gt; absorbing_element=Element ...</td>\n",
       "      <td>[[0.         0.         1.95076825] C, [0.    ...</td>\n",
       "      <td>None</td>\n",
       "      <td>False</td>\n",
       "      <td>False</td>\n",
       "      <td>0.019117</td>\n",
       "      <td>None</td>\n",
       "      <td>0</td>\n",
       "      <td>5.025481</td>\n",
       "      <td>...</td>\n",
       "      <td>-9.220297</td>\n",
       "      <td>0.008368</td>\n",
       "      <td>None</td>\n",
       "      <td>0.000000</td>\n",
       "      <td>0.001193</td>\n",
       "      <td>[]</td>\n",
       "      <td>72.510497</td>\n",
       "      <td>NaN</td>\n",
       "      <td>setyawan_curtarolo=BandStructureSummaryData(ta...</td>\n",
       "      <td>95.525895</td>\n",
       "    </tr>\n",
       "    <tr>\n",
       "      <th>2</th>\n",
       "      <td>ClC(Cl)Cl</td>\n",
       "      <td>None</td>\n",
       "      <td>[[5.09346712 7.62057649 7.01241824] C, [1.3954...</td>\n",
       "      <td>None</td>\n",
       "      <td>True</td>\n",
       "      <td>False</td>\n",
       "      <td>None</td>\n",
       "      <td>-1.0493</td>\n",
       "      <td>0</td>\n",
       "      <td>None</td>\n",
       "      <td>...</td>\n",
       "      <td>-4.276994</td>\n",
       "      <td>0.018717</td>\n",
       "      <td>None</td>\n",
       "      <td>0.000000</td>\n",
       "      <td>None</td>\n",
       "      <td>[]</td>\n",
       "      <td>None</td>\n",
       "      <td>NaN</td>\n",
       "      <td>None</td>\n",
       "      <td>None</td>\n",
       "    </tr>\n",
       "    <tr>\n",
       "      <th>3</th>\n",
       "      <td>CCCCCCC</td>\n",
       "      <td>[edge=&lt;Edge.K: 'K'&gt; absorbing_element=Element ...</td>\n",
       "      <td>[[0.         0.         1.95076825] C, [0.    ...</td>\n",
       "      <td>None</td>\n",
       "      <td>False</td>\n",
       "      <td>False</td>\n",
       "      <td>0.019117</td>\n",
       "      <td>None</td>\n",
       "      <td>0</td>\n",
       "      <td>5.025481</td>\n",
       "      <td>...</td>\n",
       "      <td>-9.220297</td>\n",
       "      <td>0.008368</td>\n",
       "      <td>None</td>\n",
       "      <td>0.000000</td>\n",
       "      <td>0.001193</td>\n",
       "      <td>[]</td>\n",
       "      <td>72.510497</td>\n",
       "      <td>NaN</td>\n",
       "      <td>setyawan_curtarolo=BandStructureSummaryData(ta...</td>\n",
       "      <td>95.525895</td>\n",
       "    </tr>\n",
       "    <tr>\n",
       "      <th>4</th>\n",
       "      <td>C1CCCC1</td>\n",
       "      <td>[edge=&lt;Edge.K: 'K'&gt; absorbing_element=Element ...</td>\n",
       "      <td>[[0.         0.         1.95076825] C, [0.    ...</td>\n",
       "      <td>None</td>\n",
       "      <td>False</td>\n",
       "      <td>False</td>\n",
       "      <td>0.019117</td>\n",
       "      <td>None</td>\n",
       "      <td>0</td>\n",
       "      <td>5.025481</td>\n",
       "      <td>...</td>\n",
       "      <td>-9.220297</td>\n",
       "      <td>0.008368</td>\n",
       "      <td>None</td>\n",
       "      <td>0.000000</td>\n",
       "      <td>0.001193</td>\n",
       "      <td>[]</td>\n",
       "      <td>72.510497</td>\n",
       "      <td>NaN</td>\n",
       "      <td>setyawan_curtarolo=BandStructureSummaryData(ta...</td>\n",
       "      <td>95.525895</td>\n",
       "    </tr>\n",
       "    <tr>\n",
       "      <th>...</th>\n",
       "      <td>...</td>\n",
       "      <td>...</td>\n",
       "      <td>...</td>\n",
       "      <td>...</td>\n",
       "      <td>...</td>\n",
       "      <td>...</td>\n",
       "      <td>...</td>\n",
       "      <td>...</td>\n",
       "      <td>...</td>\n",
       "      <td>...</td>\n",
       "      <td>...</td>\n",
       "      <td>...</td>\n",
       "      <td>...</td>\n",
       "      <td>...</td>\n",
       "      <td>...</td>\n",
       "      <td>...</td>\n",
       "      <td>...</td>\n",
       "      <td>...</td>\n",
       "      <td>...</td>\n",
       "      <td>...</td>\n",
       "      <td>...</td>\n",
       "    </tr>\n",
       "    <tr>\n",
       "      <th>477</th>\n",
       "      <td>OCCOCCOCCO</td>\n",
       "      <td>[edge=&lt;Edge.K: 'K'&gt; absorbing_element=Element ...</td>\n",
       "      <td>[[1.0653492  3.74161971 9.54036525] C, [3.6986...</td>\n",
       "      <td>None</td>\n",
       "      <td>False</td>\n",
       "      <td>False</td>\n",
       "      <td>None</td>\n",
       "      <td>-2.5159</td>\n",
       "      <td>0</td>\n",
       "      <td>None</td>\n",
       "      <td>...</td>\n",
       "      <td>-8.069085</td>\n",
       "      <td>0.508996</td>\n",
       "      <td>None</td>\n",
       "      <td>0.000000</td>\n",
       "      <td>None</td>\n",
       "      <td>[]</td>\n",
       "      <td>None</td>\n",
       "      <td>None</td>\n",
       "      <td>setyawan_curtarolo=BandStructureSummaryData(ta...</td>\n",
       "      <td>None</td>\n",
       "    </tr>\n",
       "    <tr>\n",
       "      <th>478</th>\n",
       "      <td>O</td>\n",
       "      <td>None</td>\n",
       "      <td>[[3.85699327 0.45543037 4.22059147] O, [ 5.294...</td>\n",
       "      <td>None</td>\n",
       "      <td>True</td>\n",
       "      <td>False</td>\n",
       "      <td>None</td>\n",
       "      <td>-3.5005</td>\n",
       "      <td>0</td>\n",
       "      <td>None</td>\n",
       "      <td>...</td>\n",
       "      <td>-4.031695</td>\n",
       "      <td>0.914994</td>\n",
       "      <td>None</td>\n",
       "      <td>0.000000</td>\n",
       "      <td>None</td>\n",
       "      <td>[]</td>\n",
       "      <td>None</td>\n",
       "      <td>None</td>\n",
       "      <td>None</td>\n",
       "      <td>None</td>\n",
       "    </tr>\n",
       "    <tr>\n",
       "      <th>479</th>\n",
       "      <td>OCC(O)CO</td>\n",
       "      <td>None</td>\n",
       "      <td>[[2.28552632 3.12606474 4.78784431] C, [0.1999...</td>\n",
       "      <td>None</td>\n",
       "      <td>False</td>\n",
       "      <td>False</td>\n",
       "      <td>None</td>\n",
       "      <td>-5.3131</td>\n",
       "      <td>0</td>\n",
       "      <td>None</td>\n",
       "      <td>...</td>\n",
       "      <td>-7.746193</td>\n",
       "      <td>0.669242</td>\n",
       "      <td>None</td>\n",
       "      <td>0.000244</td>\n",
       "      <td>None</td>\n",
       "      <td>[]</td>\n",
       "      <td>None</td>\n",
       "      <td>None</td>\n",
       "      <td>setyawan_curtarolo=BandStructureSummaryData(ta...</td>\n",
       "      <td>None</td>\n",
       "    </tr>\n",
       "    <tr>\n",
       "      <th>480</th>\n",
       "      <td>CCCCCC</td>\n",
       "      <td>[edge=&lt;Edge.K: 'K'&gt; absorbing_element=Element ...</td>\n",
       "      <td>[[0.         0.         1.95076825] C, [0.    ...</td>\n",
       "      <td>None</td>\n",
       "      <td>False</td>\n",
       "      <td>False</td>\n",
       "      <td>0.019117</td>\n",
       "      <td>None</td>\n",
       "      <td>0</td>\n",
       "      <td>5.025481</td>\n",
       "      <td>...</td>\n",
       "      <td>-9.220297</td>\n",
       "      <td>0.008368</td>\n",
       "      <td>None</td>\n",
       "      <td>0.000000</td>\n",
       "      <td>0.001193</td>\n",
       "      <td>[]</td>\n",
       "      <td>72.510497</td>\n",
       "      <td>None</td>\n",
       "      <td>setyawan_curtarolo=BandStructureSummaryData(ta...</td>\n",
       "      <td>95.525895</td>\n",
       "    </tr>\n",
       "    <tr>\n",
       "      <th>481</th>\n",
       "      <td>ClC(Cl)Cl</td>\n",
       "      <td>None</td>\n",
       "      <td>[[5.09346712 7.62057649 7.01241824] C, [1.3954...</td>\n",
       "      <td>None</td>\n",
       "      <td>True</td>\n",
       "      <td>False</td>\n",
       "      <td>None</td>\n",
       "      <td>-1.0493</td>\n",
       "      <td>0</td>\n",
       "      <td>None</td>\n",
       "      <td>...</td>\n",
       "      <td>-4.276994</td>\n",
       "      <td>0.018717</td>\n",
       "      <td>None</td>\n",
       "      <td>0.000000</td>\n",
       "      <td>None</td>\n",
       "      <td>[]</td>\n",
       "      <td>None</td>\n",
       "      <td>None</td>\n",
       "      <td>None</td>\n",
       "      <td>None</td>\n",
       "    </tr>\n",
       "  </tbody>\n",
       "</table>\n",
       "<p>482 rows × 51 columns</p>\n",
       "</div>"
      ],
      "text/plain": [
       "    normalised_name                                                xas  \\\n",
       "0     ClC(Cl)(Cl)Cl  [edge=<Edge.K: 'K'> absorbing_element=Element ...   \n",
       "1      CCCCCCCCCCCC  [edge=<Edge.K: 'K'> absorbing_element=Element ...   \n",
       "2         ClC(Cl)Cl                                               None   \n",
       "3           CCCCCCC  [edge=<Edge.K: 'K'> absorbing_element=Element ...   \n",
       "4           C1CCCC1  [edge=<Edge.K: 'K'> absorbing_element=Element ...   \n",
       "..              ...                                                ...   \n",
       "477      OCCOCCOCCO  [edge=<Edge.K: 'K'> absorbing_element=Element ...   \n",
       "478               O                                               None   \n",
       "479        OCC(O)CO                                               None   \n",
       "480          CCCCCC  [edge=<Edge.K: 'K'> absorbing_element=Element ...   \n",
       "481       ClC(Cl)Cl                                               None   \n",
       "\n",
       "                                             structure grain_boundaries  \\\n",
       "0    [[23.92950295 -9.16403282 11.10570111] C, [18....             None   \n",
       "1    [[0.         0.         1.95076825] C, [0.    ...             None   \n",
       "2    [[5.09346712 7.62057649 7.01241824] C, [1.3954...             None   \n",
       "3    [[0.         0.         1.95076825] C, [0.    ...             None   \n",
       "4    [[0.         0.         1.95076825] C, [0.    ...             None   \n",
       "..                                                 ...              ...   \n",
       "477  [[1.0653492  3.74161971 9.54036525] C, [3.6986...             None   \n",
       "478  [[3.85699327 0.45543037 4.22059147] O, [ 5.294...             None   \n",
       "479  [[2.28552632 3.12606474 4.78784431] C, [0.1999...             None   \n",
       "480  [[0.         0.         1.95076825] C, [0.    ...             None   \n",
       "481  [[5.09346712 7.62057649 7.01241824] C, [1.3954...             None   \n",
       "\n",
       "     theoretical  is_magnetic weighted_surface_energy     vbm  \\\n",
       "0          False        False                     NaN -1.9445   \n",
       "1          False        False                0.019117    None   \n",
       "2           True        False                    None -1.0493   \n",
       "3          False        False                0.019117    None   \n",
       "4          False        False                0.019117    None   \n",
       "..           ...          ...                     ...     ...   \n",
       "477        False        False                    None -2.5159   \n",
       "478         True        False                    None -3.5005   \n",
       "479        False        False                    None -5.3131   \n",
       "480        False        False                0.019117    None   \n",
       "481         True        False                    None -1.0493   \n",
       "\n",
       "     num_magnetic_sites weighted_work_function  ...  energy_per_atom  \\\n",
       "0                     0                    NaN  ...        -3.966848   \n",
       "1                     0               5.025481  ...        -9.220297   \n",
       "2                     0                   None  ...        -4.276994   \n",
       "3                     0               5.025481  ...        -9.220297   \n",
       "4                     0               5.025481  ...        -9.220297   \n",
       "..                  ...                    ...  ...              ...   \n",
       "477                   0                   None  ...        -8.069085   \n",
       "478                   0                   None  ...        -4.031695   \n",
       "479                   0                   None  ...        -7.746193   \n",
       "480                   0               5.025481  ...        -9.220297   \n",
       "481                   0                   None  ...        -4.276994   \n",
       "\n",
       "    energy_above_hull  dos_energy_up  \\\n",
       "0            0.000000           None   \n",
       "1            0.008368           None   \n",
       "2            0.018717           None   \n",
       "3            0.008368           None   \n",
       "4            0.008368           None   \n",
       "..                ...            ...   \n",
       "477          0.508996           None   \n",
       "478          0.914994           None   \n",
       "479          0.669242           None   \n",
       "480          0.008368           None   \n",
       "481          0.018717           None   \n",
       "\n",
       "    total_magnetization_normalized_formula_units  \\\n",
       "0                                       0.000000   \n",
       "1                                       0.000000   \n",
       "2                                       0.000000   \n",
       "3                                       0.000000   \n",
       "4                                       0.000000   \n",
       "..                                           ...   \n",
       "477                                     0.000000   \n",
       "478                                     0.000000   \n",
       "479                                     0.000244   \n",
       "480                                     0.000000   \n",
       "481                                     0.000000   \n",
       "\n",
       "     weighted_surface_energy_EV_PER_ANG2 types_of_magnetic_species  \\\n",
       "0                                    NaN                        []   \n",
       "1                               0.001193                        []   \n",
       "2                                   None                        []   \n",
       "3                               0.001193                        []   \n",
       "4                               0.001193                        []   \n",
       "..                                   ...                       ...   \n",
       "477                                 None                        []   \n",
       "478                                 None                        []   \n",
       "479                                 None                        []   \n",
       "480                             0.001193                        []   \n",
       "481                                 None                        []   \n",
       "\n",
       "     shape_factor e_total                                      bandstructure  \\\n",
       "0             NaN     NaN  setyawan_curtarolo=BandStructureSummaryData(ta...   \n",
       "1       72.510497     NaN  setyawan_curtarolo=BandStructureSummaryData(ta...   \n",
       "2            None     NaN                                               None   \n",
       "3       72.510497     NaN  setyawan_curtarolo=BandStructureSummaryData(ta...   \n",
       "4       72.510497     NaN  setyawan_curtarolo=BandStructureSummaryData(ta...   \n",
       "..            ...     ...                                                ...   \n",
       "477          None    None  setyawan_curtarolo=BandStructureSummaryData(ta...   \n",
       "478          None    None                                               None   \n",
       "479          None    None  setyawan_curtarolo=BandStructureSummaryData(ta...   \n",
       "480     72.510497    None  setyawan_curtarolo=BandStructureSummaryData(ta...   \n",
       "481          None    None                                               None   \n",
       "\n",
       "         g_vrh  \n",
       "0          NaN  \n",
       "1    95.525895  \n",
       "2         None  \n",
       "3    95.525895  \n",
       "4    95.525895  \n",
       "..         ...  \n",
       "477       None  \n",
       "478       None  \n",
       "479       None  \n",
       "480  95.525895  \n",
       "481       None  \n",
       "\n",
       "[482 rows x 51 columns]"
      ]
     },
     "execution_count": 14,
     "metadata": {},
     "output_type": "execute_result"
    }
   ],
   "source": [
    "# Dataframe with all descriptors from Materials Project\n",
    "df_mat_proj\n"
   ]
  },
  {
   "cell_type": "code",
   "execution_count": 15,
   "metadata": {},
   "outputs": [],
   "source": [
    "df_mat_proj.to_csv(\"df_mat_proj.csv\", index=False)\n"
   ]
  },
  {
   "attachments": {},
   "cell_type": "markdown",
   "metadata": {},
   "source": [
    "*Let's move on to RDKit*"
   ]
  },
  {
   "cell_type": "code",
   "execution_count": 16,
   "metadata": {},
   "outputs": [],
   "source": [
    "rdkit_descriptors = [descriptor[0] for descriptor in Chem.Descriptors._descList]\n"
   ]
  },
  {
   "cell_type": "code",
   "execution_count": 17,
   "metadata": {},
   "outputs": [
    {
     "data": {
      "text/plain": [
       "208"
      ]
     },
     "execution_count": 17,
     "metadata": {},
     "output_type": "execute_result"
    }
   ],
   "source": [
    "len(rdkit_descriptors)\n"
   ]
  },
  {
   "attachments": {},
   "cell_type": "markdown",
   "metadata": {},
   "source": [
    "We can get about 200 descriptors from RDKit, let's create a molecular descriptor calculator which is basically a set of functions, from which we can get descriptors"
   ]
  },
  {
   "cell_type": "code",
   "execution_count": 18,
   "metadata": {},
   "outputs": [],
   "source": [
    "descriptor_calculator_rdkit = MoleculeDescriptors.MolecularDescriptorCalculator(\n",
    "    rdkit_descriptors\n",
    ")\n"
   ]
  },
  {
   "cell_type": "code",
   "execution_count": 19,
   "metadata": {},
   "outputs": [],
   "source": [
    "mols = []\n",
    "names = []\n",
    "descriptors_from_rdkit = []\n"
   ]
  },
  {
   "attachments": {},
   "cell_type": "markdown",
   "metadata": {},
   "source": [
    "Firstly, we have to convert smiles to mol, as it is used by RDKit and then we can use it to calculate the descriptors\n"
   ]
  },
  {
   "cell_type": "code",
   "execution_count": null,
   "metadata": {},
   "outputs": [],
   "source": [
    "for name in tqdm(df.normalised_name):\n",
    "    try:\n",
    "        mol = Chem.MolFromSmiles(name)\n",
    "        if mol is not None:\n",
    "            mols += [mol]\n",
    "            names += [name]\n",
    "            descriptors_from_rdkit += [descriptor_calculator_rdkit.CalcDescriptors(mol)]\n",
    "    except:\n",
    "        pass\n"
   ]
  },
  {
   "attachments": {},
   "cell_type": "markdown",
   "metadata": {},
   "source": [
    "We can store our descriptors in a dataframe"
   ]
  },
  {
   "cell_type": "code",
   "execution_count": 21,
   "metadata": {},
   "outputs": [],
   "source": [
    "df_rdkit = pd.DataFrame(columns=[\"normalised_name\"] + [\"mol\"] + rdkit_descriptors)\n"
   ]
  },
  {
   "cell_type": "code",
   "execution_count": 22,
   "metadata": {},
   "outputs": [],
   "source": [
    "for i, descriptor in enumerate(descriptors_from_rdkit):\n",
    "    df_rdkit.loc[len(df_rdkit.index)] = [names[i]] + [mols[i]] + list(descriptor)\n"
   ]
  },
  {
   "cell_type": "code",
   "execution_count": 23,
   "metadata": {},
   "outputs": [
    {
     "data": {
      "text/html": [
       "<div>\n",
       "<style scoped>\n",
       "    .dataframe tbody tr th:only-of-type {\n",
       "        vertical-align: middle;\n",
       "    }\n",
       "\n",
       "    .dataframe tbody tr th {\n",
       "        vertical-align: top;\n",
       "    }\n",
       "\n",
       "    .dataframe thead th {\n",
       "        text-align: right;\n",
       "    }\n",
       "</style>\n",
       "<table border=\"1\" class=\"dataframe\">\n",
       "  <thead>\n",
       "    <tr style=\"text-align: right;\">\n",
       "      <th></th>\n",
       "      <th>normalised_name</th>\n",
       "      <th>mol</th>\n",
       "      <th>MaxEStateIndex</th>\n",
       "      <th>MinEStateIndex</th>\n",
       "      <th>MaxAbsEStateIndex</th>\n",
       "      <th>MinAbsEStateIndex</th>\n",
       "      <th>qed</th>\n",
       "      <th>MolWt</th>\n",
       "      <th>HeavyAtomMolWt</th>\n",
       "      <th>ExactMolWt</th>\n",
       "      <th>...</th>\n",
       "      <th>fr_sulfide</th>\n",
       "      <th>fr_sulfonamd</th>\n",
       "      <th>fr_sulfone</th>\n",
       "      <th>fr_term_acetylene</th>\n",
       "      <th>fr_tetrazole</th>\n",
       "      <th>fr_thiazole</th>\n",
       "      <th>fr_thiocyan</th>\n",
       "      <th>fr_thiophene</th>\n",
       "      <th>fr_unbrch_alkane</th>\n",
       "      <th>fr_urea</th>\n",
       "    </tr>\n",
       "  </thead>\n",
       "  <tbody>\n",
       "    <tr>\n",
       "      <th>0</th>\n",
       "      <td>CC(C)c1ccc(C)cc1</td>\n",
       "      <td>&lt;rdkit.Chem.rdchem.Mol object at 0x000001F7822...</td>\n",
       "      <td>2.212963</td>\n",
       "      <td>0.653333</td>\n",
       "      <td>2.212963</td>\n",
       "      <td>0.653333</td>\n",
       "      <td>0.553258</td>\n",
       "      <td>134.222000</td>\n",
       "      <td>120.110</td>\n",
       "      <td>134.109550</td>\n",
       "      <td>...</td>\n",
       "      <td>0</td>\n",
       "      <td>0</td>\n",
       "      <td>0</td>\n",
       "      <td>0</td>\n",
       "      <td>0</td>\n",
       "      <td>0</td>\n",
       "      <td>0</td>\n",
       "      <td>0</td>\n",
       "      <td>0</td>\n",
       "      <td>0</td>\n",
       "    </tr>\n",
       "    <tr>\n",
       "      <th>1</th>\n",
       "      <td>O([2H])[2H]</td>\n",
       "      <td>&lt;rdkit.Chem.rdchem.Mol object at 0x000001F7823...</td>\n",
       "      <td>5.375000</td>\n",
       "      <td>2.750000</td>\n",
       "      <td>5.375000</td>\n",
       "      <td>2.750000</td>\n",
       "      <td>0.328547</td>\n",
       "      <td>20.027204</td>\n",
       "      <td>15.999</td>\n",
       "      <td>20.023118</td>\n",
       "      <td>...</td>\n",
       "      <td>0</td>\n",
       "      <td>0</td>\n",
       "      <td>0</td>\n",
       "      <td>0</td>\n",
       "      <td>0</td>\n",
       "      <td>0</td>\n",
       "      <td>0</td>\n",
       "      <td>0</td>\n",
       "      <td>0</td>\n",
       "      <td>0</td>\n",
       "    </tr>\n",
       "    <tr>\n",
       "      <th>2</th>\n",
       "      <td>c1ccncc1</td>\n",
       "      <td>&lt;rdkit.Chem.rdchem.Mol object at 0x000001F7823...</td>\n",
       "      <td>3.784722</td>\n",
       "      <td>1.750000</td>\n",
       "      <td>3.784722</td>\n",
       "      <td>1.750000</td>\n",
       "      <td>0.453148</td>\n",
       "      <td>79.102000</td>\n",
       "      <td>74.062</td>\n",
       "      <td>79.042199</td>\n",
       "      <td>...</td>\n",
       "      <td>0</td>\n",
       "      <td>0</td>\n",
       "      <td>0</td>\n",
       "      <td>0</td>\n",
       "      <td>0</td>\n",
       "      <td>0</td>\n",
       "      <td>0</td>\n",
       "      <td>0</td>\n",
       "      <td>0</td>\n",
       "      <td>0</td>\n",
       "    </tr>\n",
       "    <tr>\n",
       "      <th>3</th>\n",
       "      <td>N.N.[Cl-].[Cl-].[Pt++]</td>\n",
       "      <td>&lt;rdkit.Chem.rdchem.Mol object at 0x000001F7822...</td>\n",
       "      <td>0.000000</td>\n",
       "      <td>0.000000</td>\n",
       "      <td>0.000000</td>\n",
       "      <td>0.000000</td>\n",
       "      <td>0.468143</td>\n",
       "      <td>300.046000</td>\n",
       "      <td>293.998</td>\n",
       "      <td>298.955595</td>\n",
       "      <td>...</td>\n",
       "      <td>0</td>\n",
       "      <td>0</td>\n",
       "      <td>0</td>\n",
       "      <td>0</td>\n",
       "      <td>0</td>\n",
       "      <td>0</td>\n",
       "      <td>0</td>\n",
       "      <td>0</td>\n",
       "      <td>0</td>\n",
       "      <td>0</td>\n",
       "    </tr>\n",
       "    <tr>\n",
       "      <th>4</th>\n",
       "      <td>Cn1nnnc1SCC2=C(N3[C@H](SC2)[C@H](NC(=O)[C@H](O...</td>\n",
       "      <td>&lt;rdkit.Chem.rdchem.Mol object at 0x000001F7822...</td>\n",
       "      <td>12.713521</td>\n",
       "      <td>-1.418433</td>\n",
       "      <td>12.713521</td>\n",
       "      <td>0.078255</td>\n",
       "      <td>0.371888</td>\n",
       "      <td>462.513000</td>\n",
       "      <td>444.369</td>\n",
       "      <td>462.078010</td>\n",
       "      <td>...</td>\n",
       "      <td>2</td>\n",
       "      <td>0</td>\n",
       "      <td>0</td>\n",
       "      <td>0</td>\n",
       "      <td>1</td>\n",
       "      <td>0</td>\n",
       "      <td>0</td>\n",
       "      <td>0</td>\n",
       "      <td>0</td>\n",
       "      <td>0</td>\n",
       "    </tr>\n",
       "    <tr>\n",
       "      <th>...</th>\n",
       "      <td>...</td>\n",
       "      <td>...</td>\n",
       "      <td>...</td>\n",
       "      <td>...</td>\n",
       "      <td>...</td>\n",
       "      <td>...</td>\n",
       "      <td>...</td>\n",
       "      <td>...</td>\n",
       "      <td>...</td>\n",
       "      <td>...</td>\n",
       "      <td>...</td>\n",
       "      <td>...</td>\n",
       "      <td>...</td>\n",
       "      <td>...</td>\n",
       "      <td>...</td>\n",
       "      <td>...</td>\n",
       "      <td>...</td>\n",
       "      <td>...</td>\n",
       "      <td>...</td>\n",
       "      <td>...</td>\n",
       "      <td>...</td>\n",
       "    </tr>\n",
       "    <tr>\n",
       "      <th>3400</th>\n",
       "      <td>CC(O)=O</td>\n",
       "      <td>&lt;rdkit.Chem.rdchem.Mol object at 0x000001F7891...</td>\n",
       "      <td>9.000000</td>\n",
       "      <td>-0.833333</td>\n",
       "      <td>9.000000</td>\n",
       "      <td>0.833333</td>\n",
       "      <td>0.429883</td>\n",
       "      <td>60.052000</td>\n",
       "      <td>56.020</td>\n",
       "      <td>60.021129</td>\n",
       "      <td>...</td>\n",
       "      <td>0</td>\n",
       "      <td>0</td>\n",
       "      <td>0</td>\n",
       "      <td>0</td>\n",
       "      <td>0</td>\n",
       "      <td>0</td>\n",
       "      <td>0</td>\n",
       "      <td>0</td>\n",
       "      <td>0</td>\n",
       "      <td>0</td>\n",
       "    </tr>\n",
       "    <tr>\n",
       "      <th>3401</th>\n",
       "      <td>[N-]=[Zn].[N-]=[Zn].[Zn+2]</td>\n",
       "      <td>&lt;rdkit.Chem.rdchem.Mol object at 0x000001F7891...</td>\n",
       "      <td>7.125000</td>\n",
       "      <td>0.000000</td>\n",
       "      <td>7.125000</td>\n",
       "      <td>0.000000</td>\n",
       "      <td>0.539931</td>\n",
       "      <td>224.184000</td>\n",
       "      <td>224.184</td>\n",
       "      <td>219.793575</td>\n",
       "      <td>...</td>\n",
       "      <td>0</td>\n",
       "      <td>0</td>\n",
       "      <td>0</td>\n",
       "      <td>0</td>\n",
       "      <td>0</td>\n",
       "      <td>0</td>\n",
       "      <td>0</td>\n",
       "      <td>0</td>\n",
       "      <td>0</td>\n",
       "      <td>0</td>\n",
       "    </tr>\n",
       "    <tr>\n",
       "      <th>3402</th>\n",
       "      <td>OC[C@H]1O[C@H](O[C@]2(CO)O[C@H](CO)[C@@H](O)[C...</td>\n",
       "      <td>&lt;rdkit.Chem.rdchem.Mol object at 0x000001F7891...</td>\n",
       "      <td>9.997826</td>\n",
       "      <td>-2.221748</td>\n",
       "      <td>9.997826</td>\n",
       "      <td>0.668633</td>\n",
       "      <td>0.237891</td>\n",
       "      <td>342.297000</td>\n",
       "      <td>320.121</td>\n",
       "      <td>342.116212</td>\n",
       "      <td>...</td>\n",
       "      <td>0</td>\n",
       "      <td>0</td>\n",
       "      <td>0</td>\n",
       "      <td>0</td>\n",
       "      <td>0</td>\n",
       "      <td>0</td>\n",
       "      <td>0</td>\n",
       "      <td>0</td>\n",
       "      <td>0</td>\n",
       "      <td>0</td>\n",
       "    </tr>\n",
       "    <tr>\n",
       "      <th>3403</th>\n",
       "      <td>COC(=O)[C](C)C</td>\n",
       "      <td>&lt;rdkit.Chem.rdchem.Mol object at 0x000001F7891...</td>\n",
       "      <td>10.252315</td>\n",
       "      <td>-0.236111</td>\n",
       "      <td>10.252315</td>\n",
       "      <td>0.236111</td>\n",
       "      <td>0.455942</td>\n",
       "      <td>101.125000</td>\n",
       "      <td>92.053</td>\n",
       "      <td>101.060255</td>\n",
       "      <td>...</td>\n",
       "      <td>0</td>\n",
       "      <td>0</td>\n",
       "      <td>0</td>\n",
       "      <td>0</td>\n",
       "      <td>0</td>\n",
       "      <td>0</td>\n",
       "      <td>0</td>\n",
       "      <td>0</td>\n",
       "      <td>0</td>\n",
       "      <td>0</td>\n",
       "    </tr>\n",
       "    <tr>\n",
       "      <th>3404</th>\n",
       "      <td>ClC(Cl)Cl</td>\n",
       "      <td>&lt;rdkit.Chem.rdchem.Mol object at 0x000001F7891...</td>\n",
       "      <td>4.805556</td>\n",
       "      <td>-0.750000</td>\n",
       "      <td>4.805556</td>\n",
       "      <td>0.750000</td>\n",
       "      <td>0.427859</td>\n",
       "      <td>119.378000</td>\n",
       "      <td>118.370</td>\n",
       "      <td>117.914383</td>\n",
       "      <td>...</td>\n",
       "      <td>0</td>\n",
       "      <td>0</td>\n",
       "      <td>0</td>\n",
       "      <td>0</td>\n",
       "      <td>0</td>\n",
       "      <td>0</td>\n",
       "      <td>0</td>\n",
       "      <td>0</td>\n",
       "      <td>0</td>\n",
       "      <td>0</td>\n",
       "    </tr>\n",
       "  </tbody>\n",
       "</table>\n",
       "<p>3405 rows × 210 columns</p>\n",
       "</div>"
      ],
      "text/plain": [
       "                                        normalised_name  \\\n",
       "0                                      CC(C)c1ccc(C)cc1   \n",
       "1                                           O([2H])[2H]   \n",
       "2                                              c1ccncc1   \n",
       "3                                N.N.[Cl-].[Cl-].[Pt++]   \n",
       "4     Cn1nnnc1SCC2=C(N3[C@H](SC2)[C@H](NC(=O)[C@H](O...   \n",
       "...                                                 ...   \n",
       "3400                                            CC(O)=O   \n",
       "3401                         [N-]=[Zn].[N-]=[Zn].[Zn+2]   \n",
       "3402  OC[C@H]1O[C@H](O[C@]2(CO)O[C@H](CO)[C@@H](O)[C...   \n",
       "3403                                     COC(=O)[C](C)C   \n",
       "3404                                          ClC(Cl)Cl   \n",
       "\n",
       "                                                    mol  MaxEStateIndex  \\\n",
       "0     <rdkit.Chem.rdchem.Mol object at 0x000001F7822...        2.212963   \n",
       "1     <rdkit.Chem.rdchem.Mol object at 0x000001F7823...        5.375000   \n",
       "2     <rdkit.Chem.rdchem.Mol object at 0x000001F7823...        3.784722   \n",
       "3     <rdkit.Chem.rdchem.Mol object at 0x000001F7822...        0.000000   \n",
       "4     <rdkit.Chem.rdchem.Mol object at 0x000001F7822...       12.713521   \n",
       "...                                                 ...             ...   \n",
       "3400  <rdkit.Chem.rdchem.Mol object at 0x000001F7891...        9.000000   \n",
       "3401  <rdkit.Chem.rdchem.Mol object at 0x000001F7891...        7.125000   \n",
       "3402  <rdkit.Chem.rdchem.Mol object at 0x000001F7891...        9.997826   \n",
       "3403  <rdkit.Chem.rdchem.Mol object at 0x000001F7891...       10.252315   \n",
       "3404  <rdkit.Chem.rdchem.Mol object at 0x000001F7891...        4.805556   \n",
       "\n",
       "      MinEStateIndex  MaxAbsEStateIndex  MinAbsEStateIndex       qed  \\\n",
       "0           0.653333           2.212963           0.653333  0.553258   \n",
       "1           2.750000           5.375000           2.750000  0.328547   \n",
       "2           1.750000           3.784722           1.750000  0.453148   \n",
       "3           0.000000           0.000000           0.000000  0.468143   \n",
       "4          -1.418433          12.713521           0.078255  0.371888   \n",
       "...              ...                ...                ...       ...   \n",
       "3400       -0.833333           9.000000           0.833333  0.429883   \n",
       "3401        0.000000           7.125000           0.000000  0.539931   \n",
       "3402       -2.221748           9.997826           0.668633  0.237891   \n",
       "3403       -0.236111          10.252315           0.236111  0.455942   \n",
       "3404       -0.750000           4.805556           0.750000  0.427859   \n",
       "\n",
       "           MolWt  HeavyAtomMolWt  ExactMolWt  ...  fr_sulfide  fr_sulfonamd  \\\n",
       "0     134.222000         120.110  134.109550  ...           0             0   \n",
       "1      20.027204          15.999   20.023118  ...           0             0   \n",
       "2      79.102000          74.062   79.042199  ...           0             0   \n",
       "3     300.046000         293.998  298.955595  ...           0             0   \n",
       "4     462.513000         444.369  462.078010  ...           2             0   \n",
       "...          ...             ...         ...  ...         ...           ...   \n",
       "3400   60.052000          56.020   60.021129  ...           0             0   \n",
       "3401  224.184000         224.184  219.793575  ...           0             0   \n",
       "3402  342.297000         320.121  342.116212  ...           0             0   \n",
       "3403  101.125000          92.053  101.060255  ...           0             0   \n",
       "3404  119.378000         118.370  117.914383  ...           0             0   \n",
       "\n",
       "      fr_sulfone  fr_term_acetylene  fr_tetrazole  fr_thiazole  fr_thiocyan  \\\n",
       "0              0                  0             0            0            0   \n",
       "1              0                  0             0            0            0   \n",
       "2              0                  0             0            0            0   \n",
       "3              0                  0             0            0            0   \n",
       "4              0                  0             1            0            0   \n",
       "...          ...                ...           ...          ...          ...   \n",
       "3400           0                  0             0            0            0   \n",
       "3401           0                  0             0            0            0   \n",
       "3402           0                  0             0            0            0   \n",
       "3403           0                  0             0            0            0   \n",
       "3404           0                  0             0            0            0   \n",
       "\n",
       "      fr_thiophene  fr_unbrch_alkane  fr_urea  \n",
       "0                0                 0        0  \n",
       "1                0                 0        0  \n",
       "2                0                 0        0  \n",
       "3                0                 0        0  \n",
       "4                0                 0        0  \n",
       "...            ...               ...      ...  \n",
       "3400             0                 0        0  \n",
       "3401             0                 0        0  \n",
       "3402             0                 0        0  \n",
       "3403             0                 0        0  \n",
       "3404             0                 0        0  \n",
       "\n",
       "[3405 rows x 210 columns]"
      ]
     },
     "execution_count": 23,
     "metadata": {},
     "output_type": "execute_result"
    }
   ],
   "source": [
    "# Dataframe with all descriptors from RDKit\n",
    "df_rdkit\n"
   ]
  },
  {
   "attachments": {},
   "cell_type": "markdown",
   "metadata": {},
   "source": [
    "*Descriptors from Mordred*"
   ]
  },
  {
   "attachments": {},
   "cell_type": "markdown",
   "metadata": {},
   "source": [
    "Downloading descriptors from mordred is very easy, we can even use our previous dataframe and it will still look pretty\n"
   ]
  },
  {
   "cell_type": "code",
   "execution_count": 24,
   "metadata": {},
   "outputs": [],
   "source": [
    "descriptor_calculator_mordred = Calculator(descriptors)"
   ]
  },
  {
   "cell_type": "code",
   "execution_count": 25,
   "metadata": {},
   "outputs": [
    {
     "data": {
      "text/plain": [
       "1826"
      ]
     },
     "execution_count": 25,
     "metadata": {},
     "output_type": "execute_result"
    }
   ],
   "source": [
    "len(descriptor_calculator_mordred.descriptors)"
   ]
  },
  {
   "attachments": {},
   "cell_type": "markdown",
   "metadata": {},
   "source": [
    "There are lots of descriptors in mordred\n"
   ]
  },
  {
   "cell_type": "code",
   "execution_count": null,
   "metadata": {},
   "outputs": [],
   "source": [
    "df_mordred = descriptor_calculator_mordred.pandas(df_rdkit.mol)"
   ]
  },
  {
   "attachments": {},
   "cell_type": "markdown",
   "metadata": {},
   "source": [
    "Now we can merge these descriptors with RDKit dataframe"
   ]
  },
  {
   "cell_type": "code",
   "execution_count": 27,
   "metadata": {},
   "outputs": [],
   "source": [
    "df_united = pd.concat([df_rdkit, df_mordred], axis=1)\n"
   ]
  },
  {
   "attachments": {},
   "cell_type": "markdown",
   "metadata": {},
   "source": [
    "Now we have a united dataframe with mordred and RDKit descriptors"
   ]
  },
  {
   "cell_type": "code",
   "execution_count": 28,
   "metadata": {},
   "outputs": [
    {
     "data": {
      "text/html": [
       "<div>\n",
       "<style scoped>\n",
       "    .dataframe tbody tr th:only-of-type {\n",
       "        vertical-align: middle;\n",
       "    }\n",
       "\n",
       "    .dataframe tbody tr th {\n",
       "        vertical-align: top;\n",
       "    }\n",
       "\n",
       "    .dataframe thead th {\n",
       "        text-align: right;\n",
       "    }\n",
       "</style>\n",
       "<table border=\"1\" class=\"dataframe\">\n",
       "  <thead>\n",
       "    <tr style=\"text-align: right;\">\n",
       "      <th></th>\n",
       "      <th>normalised_name</th>\n",
       "      <th>mol</th>\n",
       "      <th>MaxEStateIndex</th>\n",
       "      <th>MinEStateIndex</th>\n",
       "      <th>MaxAbsEStateIndex</th>\n",
       "      <th>MinAbsEStateIndex</th>\n",
       "      <th>qed</th>\n",
       "      <th>MolWt</th>\n",
       "      <th>HeavyAtomMolWt</th>\n",
       "      <th>ExactMolWt</th>\n",
       "      <th>...</th>\n",
       "      <th>SRW10</th>\n",
       "      <th>TSRW10</th>\n",
       "      <th>MW</th>\n",
       "      <th>AMW</th>\n",
       "      <th>WPath</th>\n",
       "      <th>WPol</th>\n",
       "      <th>Zagreb1</th>\n",
       "      <th>Zagreb2</th>\n",
       "      <th>mZagreb1</th>\n",
       "      <th>mZagreb2</th>\n",
       "    </tr>\n",
       "  </thead>\n",
       "  <tbody>\n",
       "    <tr>\n",
       "      <th>0</th>\n",
       "      <td>CC(C)c1ccc(C)cc1</td>\n",
       "      <td>&lt;rdkit.Chem.rdchem.Mol object at 0x000001F7822...</td>\n",
       "      <td>2.212963</td>\n",
       "      <td>0.653333</td>\n",
       "      <td>2.212963</td>\n",
       "      <td>0.653333</td>\n",
       "      <td>0.553258</td>\n",
       "      <td>134.222000</td>\n",
       "      <td>120.110</td>\n",
       "      <td>134.109550</td>\n",
       "      <td>...</td>\n",
       "      <td>8.815964</td>\n",
       "      <td>39.140584</td>\n",
       "      <td>134.109550</td>\n",
       "      <td>5.587898</td>\n",
       "      <td>120</td>\n",
       "      <td>11</td>\n",
       "      <td>46.0</td>\n",
       "      <td>50.0</td>\n",
       "      <td>4.333333</td>\n",
       "      <td>2.277778</td>\n",
       "    </tr>\n",
       "    <tr>\n",
       "      <th>1</th>\n",
       "      <td>O([2H])[2H]</td>\n",
       "      <td>&lt;rdkit.Chem.rdchem.Mol object at 0x000001F7823...</td>\n",
       "      <td>5.375000</td>\n",
       "      <td>2.750000</td>\n",
       "      <td>5.375000</td>\n",
       "      <td>2.750000</td>\n",
       "      <td>0.328547</td>\n",
       "      <td>20.027204</td>\n",
       "      <td>15.999</td>\n",
       "      <td>20.023118</td>\n",
       "      <td>...</td>\n",
       "      <td>4.174387</td>\n",
       "      <td>17.310771</td>\n",
       "      <td>20.023118</td>\n",
       "      <td>6.674373</td>\n",
       "      <td>4</td>\n",
       "      <td>0</td>\n",
       "      <td>6.0</td>\n",
       "      <td>4.0</td>\n",
       "      <td>2.25</td>\n",
       "      <td>1.000000</td>\n",
       "    </tr>\n",
       "    <tr>\n",
       "      <th>2</th>\n",
       "      <td>c1ccncc1</td>\n",
       "      <td>&lt;rdkit.Chem.rdchem.Mol object at 0x000001F7823...</td>\n",
       "      <td>3.784722</td>\n",
       "      <td>1.750000</td>\n",
       "      <td>3.784722</td>\n",
       "      <td>1.750000</td>\n",
       "      <td>0.453148</td>\n",
       "      <td>79.102000</td>\n",
       "      <td>74.062</td>\n",
       "      <td>79.042199</td>\n",
       "      <td>...</td>\n",
       "      <td>7.627057</td>\n",
       "      <td>30.941317</td>\n",
       "      <td>79.042199</td>\n",
       "      <td>7.185654</td>\n",
       "      <td>27</td>\n",
       "      <td>3</td>\n",
       "      <td>24.0</td>\n",
       "      <td>24.0</td>\n",
       "      <td>1.5</td>\n",
       "      <td>1.500000</td>\n",
       "    </tr>\n",
       "    <tr>\n",
       "      <th>3</th>\n",
       "      <td>N.N.[Cl-].[Cl-].[Pt++]</td>\n",
       "      <td>&lt;rdkit.Chem.rdchem.Mol object at 0x000001F7822...</td>\n",
       "      <td>0.000000</td>\n",
       "      <td>0.000000</td>\n",
       "      <td>0.000000</td>\n",
       "      <td>0.000000</td>\n",
       "      <td>0.468143</td>\n",
       "      <td>300.046000</td>\n",
       "      <td>293.998</td>\n",
       "      <td>298.955595</td>\n",
       "      <td>...</td>\n",
       "      <td>0.000000</td>\n",
       "      <td>5.000000</td>\n",
       "      <td>298.955595</td>\n",
       "      <td>27.177781</td>\n",
       "      <td>1000000000</td>\n",
       "      <td>0</td>\n",
       "      <td>0.0</td>\n",
       "      <td>0.0</td>\n",
       "      <td>divide by zero encountered in power (mZagreb1)</td>\n",
       "      <td>0.000000</td>\n",
       "    </tr>\n",
       "    <tr>\n",
       "      <th>4</th>\n",
       "      <td>Cn1nnnc1SCC2=C(N3[C@H](SC2)[C@H](NC(=O)[C@H](O...</td>\n",
       "      <td>&lt;rdkit.Chem.rdchem.Mol object at 0x000001F7822...</td>\n",
       "      <td>12.713521</td>\n",
       "      <td>-1.418433</td>\n",
       "      <td>12.713521</td>\n",
       "      <td>0.078255</td>\n",
       "      <td>0.371888</td>\n",
       "      <td>462.513000</td>\n",
       "      <td>444.369</td>\n",
       "      <td>462.078010</td>\n",
       "      <td>...</td>\n",
       "      <td>10.612237</td>\n",
       "      <td>81.043479</td>\n",
       "      <td>462.078010</td>\n",
       "      <td>9.430163</td>\n",
       "      <td>2914</td>\n",
       "      <td>49</td>\n",
       "      <td>166.0</td>\n",
       "      <td>200.0</td>\n",
       "      <td>10.583333</td>\n",
       "      <td>6.777778</td>\n",
       "    </tr>\n",
       "    <tr>\n",
       "      <th>...</th>\n",
       "      <td>...</td>\n",
       "      <td>...</td>\n",
       "      <td>...</td>\n",
       "      <td>...</td>\n",
       "      <td>...</td>\n",
       "      <td>...</td>\n",
       "      <td>...</td>\n",
       "      <td>...</td>\n",
       "      <td>...</td>\n",
       "      <td>...</td>\n",
       "      <td>...</td>\n",
       "      <td>...</td>\n",
       "      <td>...</td>\n",
       "      <td>...</td>\n",
       "      <td>...</td>\n",
       "      <td>...</td>\n",
       "      <td>...</td>\n",
       "      <td>...</td>\n",
       "      <td>...</td>\n",
       "      <td>...</td>\n",
       "      <td>...</td>\n",
       "    </tr>\n",
       "    <tr>\n",
       "      <th>3400</th>\n",
       "      <td>CC(O)=O</td>\n",
       "      <td>&lt;rdkit.Chem.rdchem.Mol object at 0x000001F7891...</td>\n",
       "      <td>9.000000</td>\n",
       "      <td>-0.833333</td>\n",
       "      <td>9.000000</td>\n",
       "      <td>0.833333</td>\n",
       "      <td>0.429883</td>\n",
       "      <td>60.052000</td>\n",
       "      <td>56.020</td>\n",
       "      <td>60.021129</td>\n",
       "      <td>...</td>\n",
       "      <td>6.188264</td>\n",
       "      <td>24.179697</td>\n",
       "      <td>60.021129</td>\n",
       "      <td>7.502641</td>\n",
       "      <td>9</td>\n",
       "      <td>0</td>\n",
       "      <td>12.0</td>\n",
       "      <td>9.0</td>\n",
       "      <td>3.111111</td>\n",
       "      <td>1.000000</td>\n",
       "    </tr>\n",
       "    <tr>\n",
       "      <th>3401</th>\n",
       "      <td>[N-]=[Zn].[N-]=[Zn].[Zn+2]</td>\n",
       "      <td>&lt;rdkit.Chem.rdchem.Mol object at 0x000001F7891...</td>\n",
       "      <td>7.125000</td>\n",
       "      <td>0.000000</td>\n",
       "      <td>7.125000</td>\n",
       "      <td>0.000000</td>\n",
       "      <td>0.539931</td>\n",
       "      <td>224.184000</td>\n",
       "      <td>224.184</td>\n",
       "      <td>219.793575</td>\n",
       "      <td>...</td>\n",
       "      <td>1.609438</td>\n",
       "      <td>13.047190</td>\n",
       "      <td>219.793575</td>\n",
       "      <td>43.958715</td>\n",
       "      <td>800000002</td>\n",
       "      <td>0</td>\n",
       "      <td>4.0</td>\n",
       "      <td>2.0</td>\n",
       "      <td>divide by zero encountered in power (mZagreb1)</td>\n",
       "      <td>2.000000</td>\n",
       "    </tr>\n",
       "    <tr>\n",
       "      <th>3402</th>\n",
       "      <td>OC[C@H]1O[C@H](O[C@]2(CO)O[C@H](CO)[C@@H](O)[C...</td>\n",
       "      <td>&lt;rdkit.Chem.rdchem.Mol object at 0x000001F7891...</td>\n",
       "      <td>9.997826</td>\n",
       "      <td>-2.221748</td>\n",
       "      <td>9.997826</td>\n",
       "      <td>0.668633</td>\n",
       "      <td>0.237891</td>\n",
       "      <td>342.297000</td>\n",
       "      <td>320.121</td>\n",
       "      <td>342.116212</td>\n",
       "      <td>...</td>\n",
       "      <td>10.247042</td>\n",
       "      <td>72.317821</td>\n",
       "      <td>342.116212</td>\n",
       "      <td>7.602582</td>\n",
       "      <td>1110</td>\n",
       "      <td>43</td>\n",
       "      <td>120.0</td>\n",
       "      <td>147.0</td>\n",
       "      <td>10.451389</td>\n",
       "      <td>5.291667</td>\n",
       "    </tr>\n",
       "    <tr>\n",
       "      <th>3403</th>\n",
       "      <td>COC(=O)[C](C)C</td>\n",
       "      <td>&lt;rdkit.Chem.rdchem.Mol object at 0x000001F7891...</td>\n",
       "      <td>10.252315</td>\n",
       "      <td>-0.236111</td>\n",
       "      <td>10.252315</td>\n",
       "      <td>0.236111</td>\n",
       "      <td>0.455942</td>\n",
       "      <td>101.125000</td>\n",
       "      <td>92.053</td>\n",
       "      <td>101.060255</td>\n",
       "      <td>...</td>\n",
       "      <td>7.890957</td>\n",
       "      <td>32.688753</td>\n",
       "      <td>101.060255</td>\n",
       "      <td>6.316266</td>\n",
       "      <td>46</td>\n",
       "      <td>6</td>\n",
       "      <td>26.0</td>\n",
       "      <td>26.0</td>\n",
       "      <td>4.472222</td>\n",
       "      <td>1.777778</td>\n",
       "    </tr>\n",
       "    <tr>\n",
       "      <th>3404</th>\n",
       "      <td>ClC(Cl)Cl</td>\n",
       "      <td>&lt;rdkit.Chem.rdchem.Mol object at 0x000001F7891...</td>\n",
       "      <td>4.805556</td>\n",
       "      <td>-0.750000</td>\n",
       "      <td>4.805556</td>\n",
       "      <td>0.750000</td>\n",
       "      <td>0.427859</td>\n",
       "      <td>119.378000</td>\n",
       "      <td>118.370</td>\n",
       "      <td>117.914383</td>\n",
       "      <td>...</td>\n",
       "      <td>6.188264</td>\n",
       "      <td>24.179697</td>\n",
       "      <td>117.914383</td>\n",
       "      <td>23.582877</td>\n",
       "      <td>9</td>\n",
       "      <td>0</td>\n",
       "      <td>12.0</td>\n",
       "      <td>9.0</td>\n",
       "      <td>3.111111</td>\n",
       "      <td>1.000000</td>\n",
       "    </tr>\n",
       "  </tbody>\n",
       "</table>\n",
       "<p>3405 rows × 2036 columns</p>\n",
       "</div>"
      ],
      "text/plain": [
       "                                        normalised_name  \\\n",
       "0                                      CC(C)c1ccc(C)cc1   \n",
       "1                                           O([2H])[2H]   \n",
       "2                                              c1ccncc1   \n",
       "3                                N.N.[Cl-].[Cl-].[Pt++]   \n",
       "4     Cn1nnnc1SCC2=C(N3[C@H](SC2)[C@H](NC(=O)[C@H](O...   \n",
       "...                                                 ...   \n",
       "3400                                            CC(O)=O   \n",
       "3401                         [N-]=[Zn].[N-]=[Zn].[Zn+2]   \n",
       "3402  OC[C@H]1O[C@H](O[C@]2(CO)O[C@H](CO)[C@@H](O)[C...   \n",
       "3403                                     COC(=O)[C](C)C   \n",
       "3404                                          ClC(Cl)Cl   \n",
       "\n",
       "                                                    mol  MaxEStateIndex  \\\n",
       "0     <rdkit.Chem.rdchem.Mol object at 0x000001F7822...        2.212963   \n",
       "1     <rdkit.Chem.rdchem.Mol object at 0x000001F7823...        5.375000   \n",
       "2     <rdkit.Chem.rdchem.Mol object at 0x000001F7823...        3.784722   \n",
       "3     <rdkit.Chem.rdchem.Mol object at 0x000001F7822...        0.000000   \n",
       "4     <rdkit.Chem.rdchem.Mol object at 0x000001F7822...       12.713521   \n",
       "...                                                 ...             ...   \n",
       "3400  <rdkit.Chem.rdchem.Mol object at 0x000001F7891...        9.000000   \n",
       "3401  <rdkit.Chem.rdchem.Mol object at 0x000001F7891...        7.125000   \n",
       "3402  <rdkit.Chem.rdchem.Mol object at 0x000001F7891...        9.997826   \n",
       "3403  <rdkit.Chem.rdchem.Mol object at 0x000001F7891...       10.252315   \n",
       "3404  <rdkit.Chem.rdchem.Mol object at 0x000001F7891...        4.805556   \n",
       "\n",
       "      MinEStateIndex  MaxAbsEStateIndex  MinAbsEStateIndex       qed  \\\n",
       "0           0.653333           2.212963           0.653333  0.553258   \n",
       "1           2.750000           5.375000           2.750000  0.328547   \n",
       "2           1.750000           3.784722           1.750000  0.453148   \n",
       "3           0.000000           0.000000           0.000000  0.468143   \n",
       "4          -1.418433          12.713521           0.078255  0.371888   \n",
       "...              ...                ...                ...       ...   \n",
       "3400       -0.833333           9.000000           0.833333  0.429883   \n",
       "3401        0.000000           7.125000           0.000000  0.539931   \n",
       "3402       -2.221748           9.997826           0.668633  0.237891   \n",
       "3403       -0.236111          10.252315           0.236111  0.455942   \n",
       "3404       -0.750000           4.805556           0.750000  0.427859   \n",
       "\n",
       "           MolWt  HeavyAtomMolWt  ExactMolWt  ...      SRW10     TSRW10  \\\n",
       "0     134.222000         120.110  134.109550  ...   8.815964  39.140584   \n",
       "1      20.027204          15.999   20.023118  ...   4.174387  17.310771   \n",
       "2      79.102000          74.062   79.042199  ...   7.627057  30.941317   \n",
       "3     300.046000         293.998  298.955595  ...   0.000000   5.000000   \n",
       "4     462.513000         444.369  462.078010  ...  10.612237  81.043479   \n",
       "...          ...             ...         ...  ...        ...        ...   \n",
       "3400   60.052000          56.020   60.021129  ...   6.188264  24.179697   \n",
       "3401  224.184000         224.184  219.793575  ...   1.609438  13.047190   \n",
       "3402  342.297000         320.121  342.116212  ...  10.247042  72.317821   \n",
       "3403  101.125000          92.053  101.060255  ...   7.890957  32.688753   \n",
       "3404  119.378000         118.370  117.914383  ...   6.188264  24.179697   \n",
       "\n",
       "              MW        AMW       WPath  WPol  Zagreb1  Zagreb2  \\\n",
       "0     134.109550   5.587898         120    11     46.0     50.0   \n",
       "1      20.023118   6.674373           4     0      6.0      4.0   \n",
       "2      79.042199   7.185654          27     3     24.0     24.0   \n",
       "3     298.955595  27.177781  1000000000     0      0.0      0.0   \n",
       "4     462.078010   9.430163        2914    49    166.0    200.0   \n",
       "...          ...        ...         ...   ...      ...      ...   \n",
       "3400   60.021129   7.502641           9     0     12.0      9.0   \n",
       "3401  219.793575  43.958715   800000002     0      4.0      2.0   \n",
       "3402  342.116212   7.602582        1110    43    120.0    147.0   \n",
       "3403  101.060255   6.316266          46     6     26.0     26.0   \n",
       "3404  117.914383  23.582877           9     0     12.0      9.0   \n",
       "\n",
       "                                            mZagreb1  mZagreb2  \n",
       "0                                           4.333333  2.277778  \n",
       "1                                               2.25  1.000000  \n",
       "2                                                1.5  1.500000  \n",
       "3     divide by zero encountered in power (mZagreb1)  0.000000  \n",
       "4                                          10.583333  6.777778  \n",
       "...                                              ...       ...  \n",
       "3400                                        3.111111  1.000000  \n",
       "3401  divide by zero encountered in power (mZagreb1)  2.000000  \n",
       "3402                                       10.451389  5.291667  \n",
       "3403                                        4.472222  1.777778  \n",
       "3404                                        3.111111  1.000000  \n",
       "\n",
       "[3405 rows x 2036 columns]"
      ]
     },
     "execution_count": 28,
     "metadata": {},
     "output_type": "execute_result"
    }
   ],
   "source": [
    "df_united"
   ]
  },
  {
   "cell_type": "code",
   "execution_count": 29,
   "metadata": {},
   "outputs": [],
   "source": [
    "df_united.to_csv('df_rdkit.csv', index=False)"
   ]
  },
  {
   "attachments": {},
   "cell_type": "markdown",
   "metadata": {},
   "source": [
    "**Data preprocessing**"
   ]
  },
  {
   "attachments": {},
   "cell_type": "markdown",
   "metadata": {},
   "source": [
    "We can concatenate all of our dataframes now"
   ]
  },
  {
   "cell_type": "code",
   "execution_count": null,
   "metadata": {},
   "outputs": [],
   "source": [
    "df = pd.read_excel('data_mod1.xlsx')\n",
    "df_united = pd.read_csv('df_rdkit.csv')\n",
    "df_mat_proj = pd.read_csv('df_mat_proj.csv')"
   ]
  },
  {
   "cell_type": "code",
   "execution_count": 30,
   "metadata": {},
   "outputs": [],
   "source": [
    "# Lets drop duplicates before merging\n",
    "df = df.drop_duplicates(['normalised_name'])\n",
    "df_united = df_united.drop_duplicates(['normalised_name'])\n",
    "df_mat_proj= df_mat_proj.drop_duplicates(['normalised_name'])"
   ]
  },
  {
   "cell_type": "code",
   "execution_count": 32,
   "metadata": {},
   "outputs": [],
   "source": [
    "# We can merge all 3 datasets in one\n",
    "final_df = pd.concat(\n",
    "    [\n",
    "        df.set_index(\"normalised_name\"),\n",
    "        df_mat_proj.set_index(\"normalised_name\"),\n",
    "        df_united.set_index(\"normalised_name\"),\n",
    "    ],\n",
    "    axis=1,\n",
    ").reset_index()\n"
   ]
  },
  {
   "cell_type": "code",
   "execution_count": 34,
   "metadata": {},
   "outputs": [],
   "source": [
    "final_df.to_csv('final_df.csv', index=False)"
   ]
  },
  {
   "attachments": {},
   "cell_type": "markdown",
   "metadata": {},
   "source": [
    "Let's check initial shape of our dataframe and the number of None values in descriptors before preprocessing"
   ]
  },
  {
   "cell_type": "code",
   "execution_count": 35,
   "metadata": {},
   "outputs": [
    {
     "data": {
      "text/plain": [
       "(1520, 2096)"
      ]
     },
     "execution_count": 35,
     "metadata": {},
     "output_type": "execute_result"
    }
   ],
   "source": [
    "final_df.shape"
   ]
  },
  {
   "cell_type": "code",
   "execution_count": 37,
   "metadata": {},
   "outputs": [
    {
     "data": {
      "text/plain": [
       "1346013"
      ]
     },
     "execution_count": 37,
     "metadata": {},
     "output_type": "execute_result"
    }
   ],
   "source": [
    "final_df.iloc[:,11:].isna().sum().sum()"
   ]
  },
  {
   "cell_type": "code",
   "execution_count": 38,
   "metadata": {},
   "outputs": [],
   "source": [
    "# Split dataset in two parts to work with descriptors only\n",
    "df_desc = final_df.iloc[:, 11:]\n",
    "df_info = final_df.iloc[:, :11]\n"
   ]
  },
  {
   "attachments": {},
   "cell_type": "markdown",
   "metadata": {},
   "source": [
    "We have to convert all objects in descriptors to numeric values, as it's mostly errors. Same thing with infinite numbers"
   ]
  },
  {
   "cell_type": "code",
   "execution_count": 39,
   "metadata": {},
   "outputs": [],
   "source": [
    "df_desc = df_desc.apply(pd.to_numeric, errors='coerce')\n",
    "df_desc = df_desc.replace([np.inf, -np.inf], np.nan)"
   ]
  },
  {
   "attachments": {},
   "cell_type": "markdown",
   "metadata": {},
   "source": [
    "Let's check the number of None values"
   ]
  },
  {
   "cell_type": "code",
   "execution_count": 40,
   "metadata": {},
   "outputs": [
    {
     "data": {
      "text/plain": [
       "1859486"
      ]
     },
     "execution_count": 40,
     "metadata": {},
     "output_type": "execute_result"
    }
   ],
   "source": [
    "df_desc.isna().sum().sum()"
   ]
  },
  {
   "attachments": {},
   "cell_type": "markdown",
   "metadata": {},
   "source": [
    "Much more None values, now let's make final df back and remove rows with >50% None values"
   ]
  },
  {
   "cell_type": "code",
   "execution_count": 41,
   "metadata": {},
   "outputs": [],
   "source": [
    "final_df = pd.concat([df_info, df_desc], axis=1)"
   ]
  },
  {
   "cell_type": "code",
   "execution_count": 42,
   "metadata": {},
   "outputs": [],
   "source": [
    "final_df = final_df.dropna(axis = 0, thresh=int(0.5*final_df.shape[1])).reset_index(drop=True)"
   ]
  },
  {
   "cell_type": "code",
   "execution_count": 43,
   "metadata": {},
   "outputs": [
    {
     "data": {
      "text/plain": [
       "(818, 2096)"
      ]
     },
     "execution_count": 43,
     "metadata": {},
     "output_type": "execute_result"
    }
   ],
   "source": [
    "final_df.shape"
   ]
  },
  {
   "cell_type": "code",
   "execution_count": 45,
   "metadata": {},
   "outputs": [
    {
     "data": {
      "text/plain": [
       "488739"
      ]
     },
     "execution_count": 45,
     "metadata": {},
     "output_type": "execute_result"
    }
   ],
   "source": [
    "final_df.iloc[:,11:].isna().sum().sum()"
   ]
  },
  {
   "attachments": {},
   "cell_type": "markdown",
   "metadata": {},
   "source": [
    "We got rid of some Nones, but now our dataset has only 818 rows. Let's split it one more time to remove mostly empty columns"
   ]
  },
  {
   "cell_type": "code",
   "execution_count": 47,
   "metadata": {},
   "outputs": [],
   "source": [
    "df_desc = final_df.iloc[:,11:]\n",
    "df_info = final_df.iloc[:,:11]"
   ]
  },
  {
   "attachments": {},
   "cell_type": "markdown",
   "metadata": {},
   "source": [
    "We can also drop columns in which there are only one value and standard deviation equals zero"
   ]
  },
  {
   "cell_type": "code",
   "execution_count": 48,
   "metadata": {},
   "outputs": [],
   "source": [
    "df_desc = df_desc.drop(df_desc.std()[(df_desc.std() == 0)].index, axis=1)\n",
    "df_desc = df_desc.dropna(axis = 1, thresh=int(0.75*df_desc.shape[0]))"
   ]
  },
  {
   "cell_type": "code",
   "execution_count": 49,
   "metadata": {},
   "outputs": [
    {
     "data": {
      "text/plain": [
       "(818, 1306)"
      ]
     },
     "execution_count": 49,
     "metadata": {},
     "output_type": "execute_result"
    }
   ],
   "source": [
    "df_desc.shape"
   ]
  },
  {
   "attachments": {},
   "cell_type": "markdown",
   "metadata": {},
   "source": [
    "We still have more than 1000 descriptors"
   ]
  },
  {
   "cell_type": "code",
   "execution_count": 50,
   "metadata": {},
   "outputs": [],
   "source": [
    "final_df = pd.concat([df_info, df_desc], axis=1)"
   ]
  },
  {
   "attachments": {},
   "cell_type": "markdown",
   "metadata": {},
   "source": [
    "It's time to fill in the missing values and apply scaling"
   ]
  },
  {
   "cell_type": "code",
   "execution_count": 51,
   "metadata": {},
   "outputs": [],
   "source": [
    "from sklearn.impute import KNNImputer\n",
    "from sklearn.preprocessing import MinMaxScaler"
   ]
  },
  {
   "cell_type": "code",
   "execution_count": 52,
   "metadata": {},
   "outputs": [],
   "source": [
    "df_desc = final_df.iloc[:,11:]\n",
    "df_info = final_df.iloc[:,:11]"
   ]
  },
  {
   "cell_type": "code",
   "execution_count": 53,
   "metadata": {},
   "outputs": [
    {
     "data": {
      "text/plain": [
       "51916"
      ]
     },
     "execution_count": 53,
     "metadata": {},
     "output_type": "execute_result"
    }
   ],
   "source": [
    "df_desc.isna().sum().sum()"
   ]
  },
  {
   "cell_type": "code",
   "execution_count": 54,
   "metadata": {},
   "outputs": [],
   "source": [
    "knn = KNNImputer()"
   ]
  },
  {
   "cell_type": "code",
   "execution_count": 55,
   "metadata": {},
   "outputs": [],
   "source": [
    "df_filled = knn.fit_transform(df_desc)"
   ]
  },
  {
   "cell_type": "code",
   "execution_count": 56,
   "metadata": {},
   "outputs": [],
   "source": [
    "df_desc = pd.DataFrame(df_filled, columns=df_desc.columns)"
   ]
  },
  {
   "cell_type": "code",
   "execution_count": 57,
   "metadata": {},
   "outputs": [
    {
     "data": {
      "text/plain": [
       "0"
      ]
     },
     "execution_count": 57,
     "metadata": {},
     "output_type": "execute_result"
    }
   ],
   "source": [
    "df_desc.isna().sum().sum()"
   ]
  },
  {
   "attachments": {},
   "cell_type": "markdown",
   "metadata": {},
   "source": [
    "Now we don't have None values, let's apply scaling"
   ]
  },
  {
   "cell_type": "code",
   "execution_count": 58,
   "metadata": {},
   "outputs": [],
   "source": [
    "scaler = MinMaxScaler()"
   ]
  },
  {
   "cell_type": "code",
   "execution_count": 59,
   "metadata": {},
   "outputs": [],
   "source": [
    "df_descritors_scaled = scaler.fit_transform(df_desc)"
   ]
  },
  {
   "cell_type": "code",
   "execution_count": 60,
   "metadata": {},
   "outputs": [],
   "source": [
    "df_desc = pd.DataFrame(df_descritors_scaled, columns=df_desc.columns)"
   ]
  },
  {
   "cell_type": "code",
   "execution_count": 62,
   "metadata": {},
   "outputs": [],
   "source": [
    "final_df = pd.concat([df_info, df_desc], axis=1)"
   ]
  },
  {
   "cell_type": "code",
   "execution_count": 63,
   "metadata": {},
   "outputs": [
    {
     "data": {
      "text/plain": [
       "(818, 1317)"
      ]
     },
     "execution_count": 63,
     "metadata": {},
     "output_type": "execute_result"
    }
   ],
   "source": [
    "final_df.shape"
   ]
  },
  {
   "cell_type": "code",
   "execution_count": null,
   "metadata": {},
   "outputs": [],
   "source": [
    "final_df.to_csv('hw1_dataset.csv', index=False)"
   ]
  }
 ],
 "metadata": {
  "kernelspec": {
   "display_name": "tf1",
   "language": "python",
   "name": "python3"
  },
  "language_info": {
   "codemirror_mode": {
    "name": "ipython",
    "version": 3
   },
   "file_extension": ".py",
   "mimetype": "text/x-python",
   "name": "python",
   "nbconvert_exporter": "python",
   "pygments_lexer": "ipython3",
   "version": "3.9.16"
  },
  "orig_nbformat": 4
 },
 "nbformat": 4,
 "nbformat_minor": 2
}
