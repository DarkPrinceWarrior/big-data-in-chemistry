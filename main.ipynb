{
 "cells": [
  {
   "cell_type": "code",
   "execution_count": 1,
   "metadata": {},
   "outputs": [],
   "source": [
    "import os\n",
    "\n",
    "import tensorflow as tf\n",
    "from tensorflow import keras\n",
    "from tensorflow.keras import layers\n",
    "import numpy as np\n",
    "import pandas as pd\n",
    "import matplotlib.pyplot as plt\n",
    "import numpy as np\n",
    "\n",
    "\n",
    "import PIL\n",
    "from PIL import Image\n",
    "import matplotlib.pyplot as plt\n",
    "from tensorflow.keras.utils import to_categorical\n",
    "\n",
    "import warnings\n",
    "warnings.filterwarnings(\"ignore\")\n",
    "import pandas as pd2\n",
    "import numpy as np\n",
    "from sklearn.datasets import load_linnerud\n",
    "from sklearn.decomposition import PCA, TruncatedSVD\n",
    "from sklearn.model_selection import train_test_split\n",
    "from sklearn.pipeline import FeatureUnion\n",
    "from physlearn import Regressor\n",
    "import pandas as pd"
   ]
  },
  {
   "cell_type": "code",
   "execution_count": 128,
   "metadata": {},
   "outputs": [],
   "source": [
    "df = pd.read_excel(\"data_1.xlsx\")"
   ]
  },
  {
   "cell_type": "code",
   "execution_count": 67,
   "metadata": {},
   "outputs": [
    {
     "data": {
      "text/html": [
       "<div>\n",
       "<style scoped>\n",
       "    .dataframe tbody tr th:only-of-type {\n",
       "        vertical-align: middle;\n",
       "    }\n",
       "\n",
       "    .dataframe tbody tr th {\n",
       "        vertical-align: top;\n",
       "    }\n",
       "\n",
       "    .dataframe thead th {\n",
       "        text-align: right;\n",
       "    }\n",
       "</style>\n",
       "<table border=\"1\" class=\"dataframe\">\n",
       "  <thead>\n",
       "    <tr style=\"text-align: right;\">\n",
       "      <th></th>\n",
       "      <th>DOI</th>\n",
       "      <th>Date</th>\n",
       "      <th>Journal</th>\n",
       "      <th>Title</th>\n",
       "      <th>Name</th>\n",
       "      <th>measurement_error</th>\n",
       "      <th>measurement_wavelength</th>\n",
       "      <th>measurement_method</th>\n",
       "      <th>normalised_name</th>\n",
       "      <th>raw_value</th>\n",
       "      <th>specifier</th>\n",
       "    </tr>\n",
       "  </thead>\n",
       "  <tbody>\n",
       "    <tr>\n",
       "      <th>883</th>\n",
       "      <td>10.1016/S0166-1280(02)00027-1</td>\n",
       "      <td>2/1/2002</td>\n",
       "      <td>Journal of Molecular Structure: THEOCHEM</td>\n",
       "      <td>ATHEORETICALEXPERIMENTALSTUDYSOLUBILITYDISSOLU...</td>\n",
       "      <td>flavone</td>\n",
       "      <td>0.0</td>\n",
       "      <td>NaN</td>\n",
       "      <td>el_mylogic</td>\n",
       "      <td>O=C1C=C(Oc2ccccc12)c3ccccc3</td>\n",
       "      <td>1.851775</td>\n",
       "      <td>n</td>\n",
       "    </tr>\n",
       "    <tr>\n",
       "      <th>3795</th>\n",
       "      <td>10.1016/j.jlumin.2016.12.049</td>\n",
       "      <td>1/5/2017</td>\n",
       "      <td>Journal of Luminescence</td>\n",
       "      <td>EXPLORATIONSPECTROSCOPICPROPERTIESSOLVATEDTRIS...</td>\n",
       "      <td>Toluene</td>\n",
       "      <td>0.0</td>\n",
       "      <td>NaN</td>\n",
       "      <td>el_cde_tables</td>\n",
       "      <td>NaN</td>\n",
       "      <td>1.4969</td>\n",
       "      <td>Refractive index</td>\n",
       "    </tr>\n",
       "    <tr>\n",
       "      <th>2625</th>\n",
       "      <td>10.1016/j.optmat.2012.09.008</td>\n",
       "      <td>11/20/2012</td>\n",
       "      <td>Optical Materials</td>\n",
       "      <td>FLUORESCENCESPECTROSCOPICSTUDIESMN2IONSINSROAL...</td>\n",
       "      <td>MnO</td>\n",
       "      <td>0.0</td>\n",
       "      <td>NaN</td>\n",
       "      <td>el_mylogic</td>\n",
       "      <td>NaN</td>\n",
       "      <td>1.5269</td>\n",
       "      <td>Refractive index (nd)</td>\n",
       "    </tr>\n",
       "  </tbody>\n",
       "</table>\n",
       "</div>"
      ],
      "text/plain": [
       "                                DOI        Date  \\\n",
       "883   10.1016/S0166-1280(02)00027-1    2/1/2002   \n",
       "3795   10.1016/j.jlumin.2016.12.049    1/5/2017   \n",
       "2625   10.1016/j.optmat.2012.09.008  11/20/2012   \n",
       "\n",
       "                                       Journal  \\\n",
       "883   Journal of Molecular Structure: THEOCHEM   \n",
       "3795                   Journal of Luminescence   \n",
       "2625                         Optical Materials   \n",
       "\n",
       "                                                  Title     Name  \\\n",
       "883   ATHEORETICALEXPERIMENTALSTUDYSOLUBILITYDISSOLU...  flavone   \n",
       "3795  EXPLORATIONSPECTROSCOPICPROPERTIESSOLVATEDTRIS...  Toluene   \n",
       "2625  FLUORESCENCESPECTROSCOPICSTUDIESMN2IONSINSROAL...      MnO   \n",
       "\n",
       "      measurement_error measurement_wavelength measurement_method  \\\n",
       "883                 0.0                    NaN         el_mylogic   \n",
       "3795                0.0                    NaN      el_cde_tables   \n",
       "2625                0.0                    NaN         el_mylogic   \n",
       "\n",
       "                  normalised_name raw_value              specifier  \n",
       "883   O=C1C=C(Oc2ccccc12)c3ccccc3  1.851775                      n  \n",
       "3795                          NaN    1.4969       Refractive index  \n",
       "2625                          NaN    1.5269  Refractive index (nd)  "
      ]
     },
     "execution_count": 67,
     "metadata": {},
     "output_type": "execute_result"
    }
   ],
   "source": [
    "df.sample(3)"
   ]
  },
  {
   "cell_type": "code",
   "execution_count": 37,
   "metadata": {},
   "outputs": [],
   "source": [
    "# Для удобста ватаскивания значений через iloc\n",
    "column_index_dic = {col_name:index for index,col_name in enumerate(df.columns)}"
   ]
  },
  {
   "cell_type": "code",
   "execution_count": 112,
   "metadata": {},
   "outputs": [
    {
     "name": "stdout",
     "output_type": "stream",
     "text": [
      "Missed values ['Name']:  4\n"
     ]
    }
   ],
   "source": [
    "# В столбце \"Name\" есть пропущенные значения - 4 штуки \n",
    "print(\"Missed values ['Name']: \", df[\"Name\"].isna().sum())\n",
    "# В столбце \"Name\", заполним их исходя их столбца \"normalized name\"\n",
    "\n",
    "import requests \n",
    "\n",
    "def convert_smiles_to_name(smi):\n",
    "    try:\n",
    "        url =\"https://cactus.nci.nih.gov/chemical/structure/\" + smi+\"/iupac_name\" \n",
    "        res = requests.get(url)\n",
    "        return res.text.strip()\n",
    "    except:\n",
    "        return 'name not found'\n",
    " \n",
    "\n",
    "for index in df[df[\"Name\"].isna()].index:\n",
    "    df.iloc[index,4] = convert_smiles_to_name(df.iloc[index,column_index_dic[\"normalised_name\"]])\n"
   ]
  },
  {
   "cell_type": "code",
   "execution_count": 124,
   "metadata": {},
   "outputs": [
    {
     "name": "stdout",
     "output_type": "stream",
     "text": [
      "Missed values ['normalised_name']:  2078\n"
     ]
    }
   ],
   "source": [
    "# Теперь заполним пропуски в \"normalised_name\" через \"name\"\n",
    "\n",
    "# В столбце \"Name\" есть пропущенные значения - 4 штуки \n",
    "print(\"Missed values ['normalised_name']: \", df[\"normalised_name\"].isna().sum())\n",
    "# В столбце \"Name\", заполним их исходя их столбца \"normalized name\"\n",
    "\n",
    "import requests \n",
    "\n",
    "def convert_names_to_smiles(norm_name):\n",
    "    try:\n",
    "        url =\"https://cactus.nci.nih.gov/chemical/structure/\" + norm_name+\"/smiles\" \n",
    "        res = requests.get(url)\n",
    "        return res.text.strip()\n",
    "    except:\n",
    "        return 'name not found'\n",
    " \n",
    "\n",
    "for index in df[df[\"normalised_name\"].isna()].index:\n",
    "    df.iloc[index,column_index_dic[\"normalised_name\"]] = convert_names_to_smiles(df.iloc[index,column_index_dic[\"Name\"]])\n"
   ]
  },
  {
   "cell_type": "code",
   "execution_count": 412,
   "metadata": {},
   "outputs": [],
   "source": [
    "df = pd.read_excel(\"./data_partially_mod.xlsx\")"
   ]
  },
  {
   "cell_type": "code",
   "execution_count": 414,
   "metadata": {},
   "outputs": [
    {
     "data": {
      "text/plain": [
       "575"
      ]
     },
     "execution_count": 414,
     "metadata": {},
     "output_type": "execute_result"
    }
   ],
   "source": [
    "# Выяснятется, что не все значения smiles были получены, 575 остается пропущенными\n",
    "# повторно пробегаемся, по тем, что не получилось достать\n",
    "sum(df[\"normalised_name\"]==\"<h1>Page not found (404)</h1>\") \n",
    "\n",
    "# from rdkit import Chem\n",
    "\n",
    "# # The string representation of the molecule\n",
    "# mol_string = \"B2O3–TeO2\"\n",
    "\n",
    "# # Convert the string representation to a molecule object\n",
    "# mol = Chem.MolFromSmiles(mol_string)\n",
    "\n",
    "# # Check if the molecule object was created successfully\n",
    "# if mol is None:\n",
    "#     print(\"Unable to create molecule object from the SMILES string.\")\n",
    "\n",
    "# # Get the clusters of atoms in the molecule\n",
    "# clusters = Chem.GetMolFrags(mol, asMols=True)\n",
    "\n",
    "# # Generate a SMILES string for each cluster of atoms\n",
    "# for i, cluster in enumerate(clusters):\n",
    "#     # Generate a SMILES string for the cluster\n",
    "#     smiles = Chem.MolToSmiles(cluster)\n",
    "\n",
    "#     # Print the SMILES string and cluster number\n",
    "#     print(\"Cluster {} SMILES: {}\".format(i+1, smiles))"
   ]
  },
  {
   "cell_type": "code",
   "execution_count": 415,
   "metadata": {},
   "outputs": [
    {
     "name": "stdout",
     "output_type": "stream",
     "text": [
      "Sci-Hub | A theoretical and experimental study on the solubility, dissolution rate, structure and dipolar moment of flavone in ethanol. Journal of Molecular Structure: THEOCHEM, 585(1-3), 1–13 | 10.1016/S0166-1280(02)00027-1\n"
     ]
    }
   ],
   "source": [
    "import requests\n",
    "from bs4 import BeautifulSoup\n",
    "\n",
    "# Make a GET request to Sci-Hub with the DOI as the parameter\n",
    "response = requests.get(\"https://sci-hub.ru/10.1016/S0166-1280(02)00027-1\")\n",
    "\n",
    "# Parse the HTML content of the response using BeautifulSoup\n",
    "soup = BeautifulSoup(response.content, 'html.parser')\n",
    "\n",
    "# Extract the text of the article from the BeautifulSoup object\n",
    "article_text = soup.get_text()\n",
    "\n",
    "# Extract the value of the specific tag you want (replace 'tag' with the actual tag name)\n",
    "tag_value = soup.find('title').get_text()\n",
    "\n",
    "# Print the article text and the value of the specific tag\n",
    "print(tag_value)\n"
   ]
  },
  {
   "cell_type": "code",
   "execution_count": 416,
   "metadata": {},
   "outputs": [
    {
     "data": {
      "text/plain": [
       "'<!DOCTYPE html>\\n<html>\\n    <head>\\n        <title>Sci-Hub | A theoretical and experimental study on the solubility, dissolution rate, structure and dipolar moment of flavone in ethanol. Journal of Molecular Structure: THEOCHEM, 585(1-3), 1–13 | 10.1016/S0166-1280(02)00027-1</title>\\n        <meta charset=\"UTF-8\">\\n        <meta name=\"viewport\" content=\"width=device-width\">\\n        <script src=\"/scripts/jquery-3.6.0.min.js\"></script>\\n    </head>\\n    <body>\\n    <script type = \"text/javascript\">\\n        \\n        var menu;\\n        var article;\\n        var position;\\n        function rollupi()\\n        {\\n            position = position - 2;\\n            menu.style.left = position.toString() + \\'vw\\';\\n            article.style.left = (position + 20).toString() + \\'vw\\';\\n            article.style.width = (80 - position).toString() + \\'vw\\';\\n            if (position > -20)\\n                setTimeout(rollupi, 33);\\n            else\\n                document.getElementById(\\'rollback\\').style.display = \\'block\\';\\n        }\\n        function rollup()\\n        {\\n            $.get(\"//sci-hub.ru/rollup/on?rand=\" + (Math.random() + 1).toString(36).substring(7));\\n            menu = document.getElementById(\\'minu\\');\\n            article = document.getElementById(\\'article\\');\\n            position = 0;\\n            rollupi();\\n        }\\n        function rollbacki()\\n        {\\n            position = position + 2;\\n            menu.style.left = position.toString() + \\'vw\\';\\n            article.style.left = (position + 20).toString() + \\'vw\\';\\n            article.style.width = (80 - position).toString() + \\'vw\\';\\n            if (position < 0)\\n                setTimeout(rollbacki, 33);\\n        }\\n        function rollback()\\n        {\\n            $.get(\"//sci-hub.ru/rollup/off?rand=\" + (Math.random() + 1).toString(36).substring(7));\\n            menu = document.getElementById(\\'minu\\');\\n            article = document.getElementById(\\'article\\');\\n            document.getElementById(\\'rollback\\').style.display = \\'none\\';\\n            document.getElementById(\\'roll\\').style.display = \\'block\\';\\n            position = -20;\\n            rollbacki();\\n        }\\n        function rollshow()\\n        {\\n            document.getElementById(\\'roll\\').style.display = \\'block\\';\\n        }\\n        \\n        function clip(element)\\n        {\\n          var $temp = $(\"<input>\");\\n          $(\"body\").append($temp);\\n          $temp.val($(element).text()).select();\\n          document.execCommand(\"copy\");\\n          $temp.remove();\\n        }\\n        \\n        $(document).ready(function()\\n        {\\n            setTimeout(rollshow, 1000);\\n            \\n            logoi = document.getElementById(\"logo\");\\n            rolli = document.getElementById(\"rollimg\");\\n        });\\n        \\n    </script>\\n    \\n    <style type = \"text/css\">\\n\\nhtml, body {height: 100vh; width:100vw; margin: 0; padding: 0; overflow:hidden}\\ndiv {font-family: -apple-system,BlinkMacSystemFont,Roboto,Helvetica Neue,sans-serif}\\n\\n#minu {width: 19.9vw;\\n       height: 100vh;\\n       position: absolute;\\n       z-index: 1;\\n       top: 0;\\n       background-color: white;\\n       border-right: solid 0.1vw #dfdfdf;\\n       overflow: hidden}\\n\\n#roll {display: none;\\n       position:absolute;\\n       z-index: 2;\\n       top: 12vw; left: 17vw;\\n       width: 4vw; height: 4vw;\\n       border: solid 1vw #dfdfdf;\\n       border-radius: 4vw;\\n       color: #999;\\n       font-size: 3vw;\\n       line-height: 3vw;\\n       cursor: pointer;\\n       background: #dfdfdf}\\n\\n#roll:hover {background: #d3d3d3;\\n             border-color:#d3d3d3}\\n\\n#rollback{position: absolute;\\n          top: 40vh;\\n          left: 0;\\n          background: none;\\n          z-index: 4;\\n          cursor: pointer;\\n          width: 96px;\\n          min-width: 64px;\\n          max-width: 6vw}\\n\\n#rollback img { width: 100% }\\n\\n#article {height: 100vh;\\n          position: absolute;\\n          z-index: 3;\\n          top: 0;}\\n\\nembed {width:100%;\\n       height:100%}\\n\\n#header {display:block}\\n\\n#header div {display: inline-block;\\n             vertical-align: middle;\\n             text-align: center}\\n\\n#header div:nth-of-type(1) {width: 10vw; margin-left:1.2vw}\\n#header div:nth-of-type(2) {width: 8vw; margin-top: 1vw}\\n\\n#logo {min-width: 96px;\\n       width: 100%;\\n       height: auto}\\n\\n#sci {color: darkred;\\n      font-size: 3vw;\\n      font-family: monospace}\\n\\n#sci .u {border-bottom: 0.17vw solid darkred;\\n        padding-bottom: 0.1vw}\\n\\n#motto {padding-top: 1vw;\\n        color: #999;\\n        font-size: 1vw;\\n        font-family: monospace}\\n\\n#minu #buttons {width: 100%;\\n                margin-top: 6vh}\\n\\n#buttons button {margin-left: 2vw;\\n                cursor: pointer;\\n                color: #999;\\n                font-family: monospace;\\n                font-size: 1.22vw;\\n                background: white;\\n                border-radius: 0.4vw;\\n                border: solid 0.1vw #999;\\n                padding: 0.8vh 0.4vw 0.8vh 0.4vw}\\n\\n#buttons button:hover { background: #efefef }\\n\\n#citation {margin: 3vh 2vw 0 2vw;\\n           font-size: 1vw;\\n           font-family: monospace;\\n           cursor: pointer}\\n\\n#citation:active {color:#aaa}\\n#citation a {color:#999;text-decoration:none}\\n#citation a:hover {text-decoration:underline}\\n\\n#doi {margin: 3vh 2vw 0 2vw; font-size: 1vw; color:#aaa}\\n#doi a {color: #aaa; text-decoration: none; word-wrap: break-all; word-break: break-all}\\n#doi a:hover {background: #eee}\\n\\n#versions {margin: 3vh 0 0 2vw; font-size: 1vw; color:#aaa}\\n#versions a {color: black; text-decoration: none}\\n#versions a:hover {text-decoration: underline}\\n\\n</style>\\n\\n\\n    \\n    <style type = \"text/css\">\\n        \\n        #minu { left: 0 }\\n        #rollback { display: none }\\n        #article { width: 80vw; left: 20vw }\\n        \\n    </style>\\n    \\n    <div id = \"roll\" onclick=\"rollup()\">◂</div>\\n    <div id = \"rollback\" onclick=\"rollback()\">\\n        <img id = \"rollimg\" src = \"/pictures/ravenround.gif\">\\n    </div>\\n    \\n    <div id=\"minu\">\\n        \\n        <a id = \"header\" href = \"//sci-hub.ru/\">\\n            <div>\\n                <img id = \"logo\" src = \"/pictures/ravenround.gif\">\\n            </div>\\n            <div>\\n                <span id = \"sci\"><span class = \"u\">sci</span><br>hub</span><br>\\n                <span id = \"motto\">знание —  всем!</span>\\n            </div>\\n        </a>\\n        \\n\\t<div id = \"buttons\">\\n            <button onclick = \"location.href=\\'//zero.sci-hub.ru/446/78c7fc9d40549a01a471e8d28e155603/saidman2002.pdf?download=true\\'\">&darr; скачать</button>\\n\\t</div>\\n\\n\\t<div id = \"citation\" onclick = \"clip(this)\">Saidman, E., Yurquina, A., Rudyk, R., Molina, M. A. A., & Ferretti, F. H. (2002). <i>A theoretical and experimental study on the solubility, dissolution rate, structure and dipolar moment of flavone in ethanol. Journal of Molecular Structure: THEOCHEM, 585(1-3), 1–13.</i> doi:10.1016/s0166-1280(02)00027-1&nbsp;</div>\\n\\n        <div id = \"doi\">\\n            10.1016/S0166-1280(02)00027-1\\n        </div>\\n        \\n        <div id =\"versions\">\\n            \\n        </div>\\n        \\n    </div>\\n\\n    <div id=\"article\">\\n        <embed type=\"application/pdf\" src=\"//zero.sci-hub.ru/446/78c7fc9d40549a01a471e8d28e155603/saidman2002.pdf#navpanes=0&view=FitH\" id = \"pdf\"></embed>\\n    </div>\\n    \\n    </body>\\n</html>'"
      ]
     },
     "execution_count": 416,
     "metadata": {},
     "output_type": "execute_result"
    }
   ],
   "source": [
    "# Просто пример вывода\n",
    "requests.get(\"https://sci-hub.ru/10.1016/S0166-1280(02)00027-1\").text"
   ]
  },
  {
   "cell_type": "code",
   "execution_count": 417,
   "metadata": {},
   "outputs": [],
   "source": [
    "# на всякий случай, если есть, избавляемся от пробелов по краям строк\n",
    "df[\"DOI\"] = df[\"DOI\"].apply(lambda x: x.strip())"
   ]
  },
  {
   "cell_type": "code",
   "execution_count": null,
   "metadata": {},
   "outputs": [],
   "source": [
    "# Обраюотка DOI\n",
    "# Если есть пробелы, то начинаем обработку \n",
    "\n",
    "# индексы строк с пробелами в DOI\n",
    "index_rows= df[df[\"DOI\"].apply(lambda x: \" \" in x)].index\n",
    "\n",
    "slice_wrong_DOIs = df.iloc[index_rows,column_index_dic[\"DOI\"]]\n",
    "correct_slice_DOIs = []\n",
    "for doi in slice_wrong_DOIs.values:\n",
    "    try:\n",
    "        correct_doi = []\n",
    "        for symbol in doi:\n",
    "            correct_doi.append(symbol)\n",
    "            # все DOI длинее 11 символов)\n",
    "            if len(correct_doi)>11:\n",
    "                response = requests.get(f\"https://sci-hub.ru/{''.join(correct_doi)}\")\n",
    "                tag_value = BeautifulSoup(response.content, 'html.parser').find('title').get_text()\n",
    "                if tag_value != \"Sci-Hub: статья не найдена\":\n",
    "                    correct_slice_DOIs.append(\"\".join(correct_doi))\n",
    "                    break\n",
    "    except:\n",
    "        print(\"nothing\")\n",
    "\n",
    "# Вставляем исправленные значения в DOI\n",
    "df.iloc[index_rows,column_index_dic[\"DOI\"]] = correct_slice_DOIs"
   ]
  },
  {
   "cell_type": "code",
   "execution_count": 73,
   "metadata": {},
   "outputs": [],
   "source": [
    "# Проверяем, какие статьи не ищутся и вытаскиваем индекс строк, таких статей\n",
    "responces = []\n",
    "doi_problems = []\n",
    "for doi in df[\"DOI\"]:\n",
    "    response = requests.get(f\"https://sci-hub.ru/{doi}\")\n",
    "    tag_value = BeautifulSoup(response.content, 'html.parser').find('title').get_text()\n",
    "    if tag_value == \"Sci-Hub: статья не найдена\":\n",
    "        doi_problems.append(doi)\n",
    "    responces.append(tag_value)\n",
    "    "
   ]
  },
  {
   "cell_type": "code",
   "execution_count": 418,
   "metadata": {},
   "outputs": [],
   "source": [
    "# Проблемнеы DOIs, есть дубликаты - удаляем\n",
    "doi_problems = set(doi_problems)"
   ]
  },
  {
   "cell_type": "code",
   "execution_count": 419,
   "metadata": {},
   "outputs": [],
   "source": [
    "# Собственно проблемные DOIs\n",
    "\n",
    "# План такой: убрать слова после цифр, эти DOIs прогнать через sci-hub\n",
    "# потом остальные еще через что-то найти статьи \n",
    "# обновлять journal, title и date через crossref\n",
    "\n",
    "processed_doi_problems = dict()\n",
    "for doi in doi_problems:\n",
    "    uppers = [l for l in doi[::-1] if l.isupper()]\n",
    "    if len(uppers)>0: \n",
    "        processed_doi_problems[doi] = doi[:doi.find(uppers[0])]\n",
    "    else:\n",
    "        processed_doi_problems[doi] = doi"
   ]
  },
  {
   "cell_type": "code",
   "execution_count": 420,
   "metadata": {},
   "outputs": [
    {
     "name": "stdout",
     "output_type": "stream",
     "text": [
      "Title: Design and optimization of diamond-shaped biosensor using photonic crystal nano-ring resonator\n",
      "Authors: Saeed Olyaee, Ahmad Mohebzadeh Bahabady\n",
      "Publication Date: 2015\n",
      "Journal: Optik\n",
      "DOI: 10.1016/j.ijleo.2015.06.037\n",
      "Title: Difluorinated analogues of shikimic acid\n",
      "Authors: Lovely Begum, Julian M Box, Michael G.B Drew, Laurence M Harwood, Jane L Humphreys, David J Lowes, Gareth A Morris, Perrine M Redon, Francine M Walker, Roger C Whitehead\n",
      "Publication Date: 2003\n",
      "Journal: Tetrahedron\n",
      "DOI: 10.1016/s0040-4020(03)00697-5\n",
      "Title: Reflectivity of 88% for four-period hybrid Bragg mirror from spin coating process\n",
      "Authors: L. Ajith DeSilva, Raghuveer Gadipalli, Anthony Donato, T.M.W.J. Bandara\n",
      "Publication Date: 2017\n",
      "Journal: Optik\n",
      "DOI: 10.1016/j.ijleo.2017.11.048\n",
      "Title: Gas permeation in thin films of “high free-volume” glassy perfluoropolymers: Part II. CO2 plasticization and sorption\n",
      "Authors: Rajkiran R. Tiwari, Zachary P. Smith, Haiqing Lin, B.D. Freeman, D.R. Paul\n",
      "Publication Date: 2014\n",
      "Journal: Polymer\n",
      "DOI: 10.1016/j.polymer.2014.12.008\n",
      "Title: Effect of interfacial tension on micellization of a polystyrene–poly(ethylene oxide) diblock copolymer in a mixed solvent system\n",
      "Authors: Y Seo\n",
      "Publication Date: 2002\n",
      "Journal: Polymer\n",
      "DOI: 10.1016/s0032-3861(02)00347-6\n",
      "Title: Effect of oxygen vacancy on Sb3+, Nb3+ and V3+ doped KTaO3 compounds\n",
      "Authors: İsmail Yücel, Seyfettin Çakmak\n",
      "Publication Date: 2018\n",
      "Journal: Optik\n",
      "DOI: 10.1016/j.ijleo.2018.10.039\n",
      "Title: Light enhancement of surface nano-textured GaN based light emitting diodes using self-assembled Ni nano-masks\n",
      "Authors: Mumta Hena Mustary, Beo Deul Ryu, Min Han, Jong Han Yang, Volodymyr V. Lysak, Chang-Hee Hong\n",
      "Publication Date: 2015\n",
      "Journal: Optik\n",
      "DOI: 10.1016/j.ijleo.2015.10.116\n",
      "Title: Modified solvatochromic equations for better estimation of ground and excited state dipole moments of p-aminobenzoicacid (PABA): Accounting for real shape over hypothetical spherical solvent shell\n",
      "Authors: Ephrem G. Demissie, Ephriem T. Mengesha, Girma W. Woyessa\n",
      "Publication Date: 2017\n",
      "Journal: Journal of Photochemistry and Photobiology A: Chemistry\n",
      "DOI: 10.1016/j.jphotochem.2016.12.034\n",
      "Title: Scanning angle Raman spectroscopy: A nondestructive method for simultaneously determining mixed polymer fractional composition and film thickness\n",
      "Authors: Jonathan M. Bobbitt, Deyny Mendivelso-Pérez, Emily A. Smith\n",
      "Publication Date: 2016\n",
      "Journal: Polymer\n",
      "DOI: 10.1016/j.polymer.2016.10.063\n",
      "DOI not found.\n",
      "Title: Multifocal intraocular lens implantation in prepresbyopic patients with unilateral cataract\n",
      "Authors: Philipp C Jacobi, Thomas S Dietlein, Christoph Lüke, Felix K Jacobi\n",
      "Publication Date: 2002\n",
      "Journal: Ophthalmology\n",
      "DOI: 10.1016/s0161-6420(01)01029-6\n",
      "Title: Effect of potassium and erbium co-doping on the structural, electronic, optical and magnetic properties of zinc oxide\n",
      "Authors: D.E. Aimouch, S. Meskine, A. Bahnes, A. Boukortt, A. Zaoui\n",
      "Publication Date: 2017\n",
      "Journal: Optik\n",
      "DOI: 10.1016/j.ijleo.2017.06.121\n",
      "Title: Characterization of silicon films deposited in presence of nitrogen plasma\n",
      "Authors: Sheetal J. Patil, Dhananjay S. Bodas, A.S. Ethiraj, R.C. Purandare, G.J. Phatak, S.K. Kulkarni, S.A. Gangal\n",
      "Publication Date: 2002\n",
      "Journal: Vacuum\n",
      "DOI: 10.1016/s0042-207x(01)00412-2\n",
      "DOI not found.\n",
      "Title: Light scattering studies on core–shell systems: determination of size parameters of sterically stabilized poly(methylmethacrylate) dispersions\n",
      "Authors: B. Hirzinger, M. Helmstedt, J. Stejskal\n",
      "Publication Date: 2002\n",
      "Journal: Polymer\n",
      "DOI: 10.1016/s0032-3861(99)00472-3\n",
      "Title: Colour tunable emission from Eu0.5Sm0.5(TTA)3 dpphen β-diketonate hybrid organic complex in various organic solvents\n",
      "Authors: Akhilesh Ugale, N. Thejo Kalyani, S.J. Dhoble\n",
      "Publication Date: 2018\n",
      "Journal: Optik\n",
      "DOI: 10.1016/j.ijleo.2018.06.034\n",
      "Title: Optical properties of smart thermochromic film by computational optical model\n",
      "Authors: Jianying Hu, Xiong (Bill) Yu\n",
      "Publication Date: 2017\n",
      "Journal: Optik\n",
      "DOI: 10.1016/j.ijleo.2017.11.066\n",
      "Title: Omnidirectional reflector using linearly graded refractive index profile of 1D binary and ternary photonic crystal\n",
      "Authors: Sanjeev Sharma, Rajendra Kumar, Kh.S. Singh, Arun Kumar, Vipin Kumar\n",
      "Publication Date: 2015\n",
      "Journal: Optik\n",
      "DOI: 10.1016/j.ijleo.2015.03.029\n"
     ]
    }
   ],
   "source": [
    "# Проверяем обработанные статьи ячейкой выше processed_doi_problems_part1\n",
    "# Все прошли проверку но некоторые статьи из processed_doi_problems_part2 не прошли ее\n",
    "import requests\n",
    "\n",
    "problematic_doi = []\n",
    "for doi in list(processed_doi_problems.values()):\n",
    "    response = requests.get(f\"https://api.crossref.org/works/{doi}\")\n",
    "    if response.ok:\n",
    "        data = response.json()[\"message\"]\n",
    "        print(f\"Title: {data['title'][0]}\")\n",
    "        print(f\"Authors: {', '.join(author['given'] + ' ' + author['family'] for author in data['author'])}\")\n",
    "        print(f\"Publication Date: {data['created']['date-parts'][0][0]}\")\n",
    "        print(f\"Journal: {data['container-title'][0]}\")\n",
    "        print(f\"DOI: {data['DOI']}\")\n",
    "    else:\n",
    "        problematic_doi.append(doi)\n",
    "        print(\"DOI not found.\")"
   ]
  },
  {
   "cell_type": "code",
   "execution_count": 421,
   "metadata": {},
   "outputs": [
    {
     "name": "stdout",
     "output_type": "stream",
     "text": [
      "['10.3389/fpls.2014.00', '10.1038/srep28']\n"
     ]
    }
   ],
   "source": [
    "# Проблемные статьи))\n",
    "print(problematic_doi)"
   ]
  },
  {
   "cell_type": "code",
   "execution_count": 422,
   "metadata": {},
   "outputs": [],
   "source": [
    "# Заменяем старые DOIs новыми, \n",
    "# но остается два неразрешенных DOIs - ['10.1038/srep28', '10.3389/fpls.2014.00']\n",
    "for key,value in processed_doi_problems.items():\n",
    "    df.loc[df[\"DOI\"]==key,\"DOI\"] = value"
   ]
  },
  {
   "cell_type": "code",
   "execution_count": 423,
   "metadata": {},
   "outputs": [],
   "source": [
    "# ['10.1038/srep28', '10.3389/fpls.2014.00'] удаляем эти DOIs (строки)\n",
    "for doi_prob in problematic_doi:\n",
    "    df = df.drop(df[df[\"DOI\"]==doi_prob].index)"
   ]
  },
  {
   "cell_type": "code",
   "execution_count": 432,
   "metadata": {},
   "outputs": [],
   "source": [
    "# Заполянем пропуски в (Date, Journal, Title)\n",
    "# Индексы пропусков у них одинаковые\n",
    "\n",
    "# Индексы пропусков у них одинаковые\n",
    "missed_index = df[df[\"Journal\"].isna()].index"
   ]
  },
  {
   "cell_type": "code",
   "execution_count": 434,
   "metadata": {},
   "outputs": [
    {
     "name": "stdout",
     "output_type": "stream",
     "text": [
      "DOI not found.\n",
      "DOI not found.\n",
      "DOI not found.\n",
      "DOI not found.\n",
      "DOI not found.\n"
     ]
    }
   ],
   "source": [
    "# Создаем список, который потом заполнить пропуски\n",
    "problematic_doi_2 = []\n",
    "values_fill = []\n",
    "for index in missed_index:\n",
    "    response = requests.get(f\"https://api.crossref.org/works/{df.iloc[index,column_index_dic['DOI']]}\")\n",
    "    if response.ok:\n",
    "        data = response.json()[\"message\"]\n",
    "        values_fill.append([data['created']['date-parts'][0][0],\n",
    "                            data['container-title'][0],data['title'][0]])\n",
    "    else:\n",
    "        problematic_doi_2.append(df.iloc[index,column_index_dic['DOI']])\n",
    "        print(\"DOI not found.\")"
   ]
  },
  {
   "cell_type": "code",
   "execution_count": 436,
   "metadata": {},
   "outputs": [],
   "source": [
    "# Удаляем эти DOIs (строки)\n",
    "for doi_prob in problematic_doi_2:\n",
    "    df = df.drop(df[df[\"DOI\"]==doi_prob].index)"
   ]
  },
  {
   "cell_type": "code",
   "execution_count": 459,
   "metadata": {},
   "outputs": [],
   "source": [
    "# Индексы пропусков у них одинаковые\n",
    "missed_index = df[df[\"Journal\"].isna()].index"
   ]
  },
  {
   "cell_type": "code",
   "execution_count": 460,
   "metadata": {},
   "outputs": [],
   "source": [
    "# Создаем список, который потом заполнить пропуски (повторно, так как удалили некоторые строки)\n",
    "problematic_doi_2 = []\n",
    "values_fill = []\n",
    "for index in missed_index:\n",
    "    response = requests.get(f\"https://api.crossref.org/works/{df.iloc[index,column_index_dic['DOI']]}\")\n",
    "    if response.ok:\n",
    "        data = response.json()[\"message\"]\n",
    "        values_fill.append([data['created']['date-parts'][0][0],\n",
    "                            data['container-title'][0],data['title'][0]])\n",
    "    else:\n",
    "        problematic_doi_2.append(df.iloc[index,column_index_dic['DOI']])\n",
    "        print(\"DOI not found.\")"
   ]
  },
  {
   "cell_type": "code",
   "execution_count": 469,
   "metadata": {},
   "outputs": [],
   "source": [
    "# Заполянем пропуски в (Date, Journal, Title)\n",
    "df.loc[missed_index,\"Date\"] = [x[0] for x in values_fill]\n",
    "df.loc[missed_index,\"Journal\"] = [x[1] for x in values_fill]\n",
    "df.loc[missed_index,\"Title\"] = [x[2] for x in values_fill]"
   ]
  },
  {
   "attachments": {},
   "cell_type": "markdown",
   "metadata": {},
   "source": [
    "## Заполняем пропуски в SMILES (через mol)"
   ]
  },
  {
   "cell_type": "code",
   "execution_count": null,
   "metadata": {},
   "outputs": [],
   "source": []
  },
  {
   "cell_type": "code",
   "execution_count": null,
   "metadata": {},
   "outputs": [],
   "source": [
    "# Удаляем дубликаты строк по DOI и Name и measurement_method и normalised_name и specifier\n",
    "df = df.drop_duplicates(subset=[\"DOI\",\"Name\"])"
   ]
  }
 ],
 "metadata": {
  "kernelspec": {
   "display_name": "tf1",
   "language": "python",
   "name": "python3"
  },
  "language_info": {
   "codemirror_mode": {
    "name": "ipython",
    "version": 3
   },
   "file_extension": ".py",
   "mimetype": "text/x-python",
   "name": "python",
   "nbconvert_exporter": "python",
   "pygments_lexer": "ipython3",
   "version": "3.8.10"
  },
  "orig_nbformat": 4
 },
 "nbformat": 4,
 "nbformat_minor": 2
}
